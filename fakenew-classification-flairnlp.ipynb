{
 "cells": [
  {
   "cell_type": "code",
   "execution_count": 1,
   "id": "759d353a",
   "metadata": {
    "_cell_guid": "b1076dfc-b9ad-4769-8c92-a6c4dae69d19",
    "_uuid": "8f2839f25d086af736a60e9eeb907d3b93b6e0e5",
    "execution": {
     "iopub.execute_input": "2022-06-25T23:24:12.934191Z",
     "iopub.status.busy": "2022-06-25T23:24:12.933678Z",
     "iopub.status.idle": "2022-06-25T23:24:12.950703Z",
     "shell.execute_reply": "2022-06-25T23:24:12.949858Z"
    },
    "papermill": {
     "duration": 0.028114,
     "end_time": "2022-06-25T23:24:12.953570",
     "exception": false,
     "start_time": "2022-06-25T23:24:12.925456",
     "status": "completed"
    },
    "tags": []
   },
   "outputs": [
    {
     "name": "stdout",
     "output_type": "stream",
     "text": [
      "/kaggle/input/fake-or-real-news/fake_or_real_news.csv\n"
     ]
    }
   ],
   "source": [
    "# This Python 3 environment comes with many helpful analytics libraries installed\n",
    "# It is defined by the kaggle/python Docker image: https://github.com/kaggle/docker-python\n",
    "# For example, here's several helpful packages to load\n",
    "\n",
    "import numpy as np # linear algebra\n",
    "import pandas as pd # data processing, CSV file I/O (e.g. pd.read_csv)\n",
    "\n",
    "# Input data files are available in the read-only \"../input/\" directory\n",
    "# For example, running this (by clicking run or pressing Shift+Enter) will list all files under the input directory\n",
    "\n",
    "import os\n",
    "for dirname, _, filenames in os.walk('/kaggle/input'):\n",
    "    for filename in filenames:\n",
    "        print(os.path.join(dirname, filename))\n",
    "\n",
    "# You can write up to 20GB to the current directory (/kaggle/working/) that gets preserved as output when you create a version using \"Save & Run All\" \n",
    "# You can also write temporary files to /kaggle/temp/, but they won't be saved outside of the current session"
   ]
  },
  {
   "cell_type": "code",
   "execution_count": 2,
   "id": "37b6ec42",
   "metadata": {
    "execution": {
     "iopub.execute_input": "2022-06-25T23:24:12.966980Z",
     "iopub.status.busy": "2022-06-25T23:24:12.966507Z",
     "iopub.status.idle": "2022-06-25T23:24:57.416804Z",
     "shell.execute_reply": "2022-06-25T23:24:57.415524Z"
    },
    "papermill": {
     "duration": 44.459866,
     "end_time": "2022-06-25T23:24:57.419923",
     "exception": false,
     "start_time": "2022-06-25T23:24:12.960057",
     "status": "completed"
    },
    "tags": []
   },
   "outputs": [
    {
     "name": "stdout",
     "output_type": "stream",
     "text": [
      "Collecting flair\r\n",
      "  Downloading flair-0.11.3-py3-none-any.whl (401 kB)\r\n",
      "\u001b[2K     \u001b[90m━━━━━━━━━━━━━━━━━━━━━━━━━━━━━━━━━━━━━━━\u001b[0m \u001b[32m401.9/401.9 kB\u001b[0m \u001b[31m1.1 MB/s\u001b[0m eta \u001b[36m0:00:00\u001b[0m\r\n",
      "\u001b[?25hRequirement already satisfied: regex in /opt/conda/lib/python3.7/site-packages (from flair) (2021.11.10)\r\n",
      "Collecting mpld3==0.3\r\n",
      "  Downloading mpld3-0.3.tar.gz (788 kB)\r\n",
      "\u001b[2K     \u001b[90m━━━━━━━━━━━━━━━━━━━━━━━━━━━━━━━━━━━━━━━\u001b[0m \u001b[32m788.5/788.5 kB\u001b[0m \u001b[31m5.8 MB/s\u001b[0m eta \u001b[36m0:00:00\u001b[0m\r\n",
      "\u001b[?25h  Preparing metadata (setup.py) ... \u001b[?25l-\b \bdone\r\n",
      "\u001b[?25hRequirement already satisfied: tabulate in /opt/conda/lib/python3.7/site-packages (from flair) (0.8.9)\r\n",
      "Collecting gdown==4.4.0\r\n",
      "  Downloading gdown-4.4.0.tar.gz (14 kB)\r\n",
      "  Installing build dependencies ... \u001b[?25l-\b \b\\\b \b|\b \b/\b \b-\b \b\\\b \bdone\r\n",
      "\u001b[?25h  Getting requirements to build wheel ... \u001b[?25l-\b \b\\\b \b|\b \b/\b \b-\b \bdone\r\n",
      "\u001b[?25h  Preparing metadata (pyproject.toml) ... \u001b[?25l-\b \b\\\b \b|\b \b/\b \b-\b \b\\\b \b|\b \b/\b \bdone\r\n",
      "\u001b[?25hCollecting ftfy\r\n",
      "  Downloading ftfy-6.1.1-py3-none-any.whl (53 kB)\r\n",
      "\u001b[2K     \u001b[90m━━━━━━━━━━━━━━━━━━━━━━━━━━━━━━━━━━━━━━━━\u001b[0m \u001b[32m53.1/53.1 kB\u001b[0m \u001b[31m5.5 MB/s\u001b[0m eta \u001b[36m0:00:00\u001b[0m\r\n",
      "\u001b[?25hCollecting wikipedia-api\r\n",
      "  Downloading Wikipedia-API-0.5.4.tar.gz (18 kB)\r\n",
      "  Preparing metadata (setup.py) ... \u001b[?25l-\b \bdone\r\n",
      "\u001b[?25hCollecting segtok>=1.5.7\r\n",
      "  Downloading segtok-1.5.11-py3-none-any.whl (24 kB)\r\n",
      "Collecting bpemb>=0.3.2\r\n",
      "  Downloading bpemb-0.3.3-py3-none-any.whl (19 kB)\r\n",
      "Requirement already satisfied: matplotlib>=2.2.3 in /opt/conda/lib/python3.7/site-packages (from flair) (3.5.2)\r\n",
      "Requirement already satisfied: transformers>=4.0.0 in /opt/conda/lib/python3.7/site-packages (from flair) (4.18.0)\r\n",
      "Requirement already satisfied: hyperopt>=0.2.7 in /opt/conda/lib/python3.7/site-packages (from flair) (0.2.7)\r\n",
      "Collecting sqlitedict>=1.6.0\r\n",
      "  Downloading sqlitedict-2.0.0.tar.gz (46 kB)\r\n",
      "\u001b[2K     \u001b[90m━━━━━━━━━━━━━━━━━━━━━━━━━━━━━━━━━━━━━━━━\u001b[0m \u001b[32m46.3/46.3 kB\u001b[0m \u001b[31m4.6 MB/s\u001b[0m eta \u001b[36m0:00:00\u001b[0m\r\n",
      "\u001b[?25h  Preparing metadata (setup.py) ... \u001b[?25l-\b \bdone\r\n",
      "\u001b[?25hRequirement already satisfied: huggingface-hub in /opt/conda/lib/python3.7/site-packages (from flair) (0.7.0)\r\n",
      "Collecting sentencepiece==0.1.95\r\n",
      "  Downloading sentencepiece-0.1.95-cp37-cp37m-manylinux2014_x86_64.whl (1.2 MB)\r\n",
      "\u001b[2K     \u001b[90m━━━━━━━━━━━━━━━━━━━━━━━━━━━━━━━━━━━━━━━━\u001b[0m \u001b[32m1.2/1.2 MB\u001b[0m \u001b[31m10.5 MB/s\u001b[0m eta \u001b[36m0:00:00\u001b[0m\r\n",
      "\u001b[?25hCollecting conllu>=4.0\r\n",
      "  Downloading conllu-4.4.2-py2.py3-none-any.whl (15 kB)\r\n",
      "Collecting konoha<5.0.0,>=4.0.0\r\n",
      "  Downloading konoha-4.6.5-py3-none-any.whl (20 kB)\r\n",
      "Requirement already satisfied: python-dateutil>=2.6.1 in /opt/conda/lib/python3.7/site-packages (from flair) (2.8.2)\r\n",
      "Requirement already satisfied: janome in /opt/conda/lib/python3.7/site-packages (from flair) (0.4.2)\r\n",
      "Collecting pptree\r\n",
      "  Downloading pptree-3.1.tar.gz (3.0 kB)\r\n",
      "  Preparing metadata (setup.py) ... \u001b[?25l-\b \bdone\r\n",
      "\u001b[?25hCollecting deprecated>=1.2.4\r\n",
      "  Downloading Deprecated-1.2.13-py2.py3-none-any.whl (9.6 kB)\r\n",
      "Requirement already satisfied: tqdm>=4.26.0 in /opt/conda/lib/python3.7/site-packages (from flair) (4.64.0)\r\n",
      "Collecting langdetect\r\n",
      "  Downloading langdetect-1.0.9.tar.gz (981 kB)\r\n",
      "\u001b[2K     \u001b[90m━━━━━━━━━━━━━━━━━━━━━━━━━━━━━━━━━━━━━━\u001b[0m \u001b[32m981.5/981.5 kB\u001b[0m \u001b[31m32.8 MB/s\u001b[0m eta \u001b[36m0:00:00\u001b[0m\r\n",
      "\u001b[?25h  Preparing metadata (setup.py) ... \u001b[?25l-\b \bdone\r\n",
      "\u001b[?25hRequirement already satisfied: torch!=1.8,>=1.5.0 in /opt/conda/lib/python3.7/site-packages (from flair) (1.11.0)\r\n",
      "Requirement already satisfied: lxml in /opt/conda/lib/python3.7/site-packages (from flair) (4.9.0)\r\n",
      "Requirement already satisfied: gensim>=3.4.0 in /opt/conda/lib/python3.7/site-packages (from flair) (4.0.1)\r\n",
      "Requirement already satisfied: more-itertools in /opt/conda/lib/python3.7/site-packages (from flair) (8.13.0)\r\n",
      "Requirement already satisfied: scikit-learn>=0.21.3 in /opt/conda/lib/python3.7/site-packages (from flair) (1.0.2)\r\n",
      "Requirement already satisfied: six in /opt/conda/lib/python3.7/site-packages (from gdown==4.4.0->flair) (1.16.0)\r\n",
      "Requirement already satisfied: beautifulsoup4 in /opt/conda/lib/python3.7/site-packages (from gdown==4.4.0->flair) (4.11.1)\r\n",
      "Requirement already satisfied: filelock in /opt/conda/lib/python3.7/site-packages (from gdown==4.4.0->flair) (3.6.0)\r\n",
      "Requirement already satisfied: requests[socks] in /opt/conda/lib/python3.7/site-packages (from gdown==4.4.0->flair) (2.27.1)\r\n",
      "Requirement already satisfied: numpy in /opt/conda/lib/python3.7/site-packages (from bpemb>=0.3.2->flair) (1.21.6)\r\n",
      "Requirement already satisfied: wrapt<2,>=1.10 in /opt/conda/lib/python3.7/site-packages (from deprecated>=1.2.4->flair) (1.14.1)\r\n",
      "Requirement already satisfied: smart-open>=1.8.1 in /opt/conda/lib/python3.7/site-packages (from gensim>=3.4.0->flair) (5.2.1)\r\n",
      "Requirement already satisfied: scipy>=0.18.1 in /opt/conda/lib/python3.7/site-packages (from gensim>=3.4.0->flair) (1.7.3)\r\n",
      "Requirement already satisfied: networkx>=2.2 in /opt/conda/lib/python3.7/site-packages (from hyperopt>=0.2.7->flair) (2.5)\r\n",
      "Requirement already satisfied: cloudpickle in /opt/conda/lib/python3.7/site-packages (from hyperopt>=0.2.7->flair) (2.1.0)\r\n",
      "Requirement already satisfied: py4j in /opt/conda/lib/python3.7/site-packages (from hyperopt>=0.2.7->flair) (0.10.9.5)\r\n",
      "Requirement already satisfied: future in /opt/conda/lib/python3.7/site-packages (from hyperopt>=0.2.7->flair) (0.18.2)\r\n",
      "Collecting overrides<4.0.0,>=3.0.0\r\n",
      "  Downloading overrides-3.1.0.tar.gz (11 kB)\r\n",
      "  Preparing metadata (setup.py) ... \u001b[?25l-\b \bdone\r\n",
      "\u001b[?25hCollecting importlib-metadata<4.0.0,>=3.7.0\r\n",
      "  Downloading importlib_metadata-3.10.1-py3-none-any.whl (14 kB)\r\n",
      "Requirement already satisfied: cycler>=0.10 in /opt/conda/lib/python3.7/site-packages (from matplotlib>=2.2.3->flair) (0.11.0)\r\n",
      "Requirement already satisfied: pyparsing>=2.2.1 in /opt/conda/lib/python3.7/site-packages (from matplotlib>=2.2.3->flair) (3.0.9)\r\n",
      "Requirement already satisfied: fonttools>=4.22.0 in /opt/conda/lib/python3.7/site-packages (from matplotlib>=2.2.3->flair) (4.33.3)\r\n",
      "Requirement already satisfied: packaging>=20.0 in /opt/conda/lib/python3.7/site-packages (from matplotlib>=2.2.3->flair) (21.3)\r\n",
      "Requirement already satisfied: kiwisolver>=1.0.1 in /opt/conda/lib/python3.7/site-packages (from matplotlib>=2.2.3->flair) (1.4.2)\r\n",
      "Requirement already satisfied: pillow>=6.2.0 in /opt/conda/lib/python3.7/site-packages (from matplotlib>=2.2.3->flair) (9.1.1)\r\n",
      "Requirement already satisfied: threadpoolctl>=2.0.0 in /opt/conda/lib/python3.7/site-packages (from scikit-learn>=0.21.3->flair) (3.1.0)\r\n",
      "Requirement already satisfied: joblib>=0.11 in /opt/conda/lib/python3.7/site-packages (from scikit-learn>=0.21.3->flair) (1.1.0)\r\n",
      "Requirement already satisfied: typing-extensions in /opt/conda/lib/python3.7/site-packages (from torch!=1.8,>=1.5.0->flair) (4.1.1)\r\n",
      "Requirement already satisfied: pyyaml>=5.1 in /opt/conda/lib/python3.7/site-packages (from transformers>=4.0.0->flair) (6.0)\r\n",
      "Requirement already satisfied: tokenizers!=0.11.3,<0.13,>=0.11.1 in /opt/conda/lib/python3.7/site-packages (from transformers>=4.0.0->flair) (0.12.1)\r\n",
      "Requirement already satisfied: sacremoses in /opt/conda/lib/python3.7/site-packages (from transformers>=4.0.0->flair) (0.0.53)\r\n",
      "Requirement already satisfied: wcwidth>=0.2.5 in /opt/conda/lib/python3.7/site-packages (from ftfy->flair) (0.2.5)\r\n",
      "Requirement already satisfied: zipp>=0.5 in /opt/conda/lib/python3.7/site-packages (from importlib-metadata<4.0.0,>=3.7.0->konoha<5.0.0,>=4.0.0->flair) (3.8.0)\r\n",
      "Requirement already satisfied: decorator>=4.3.0 in /opt/conda/lib/python3.7/site-packages (from networkx>=2.2->hyperopt>=0.2.7->flair) (5.1.1)\r\n",
      "Requirement already satisfied: urllib3<1.27,>=1.21.1 in /opt/conda/lib/python3.7/site-packages (from requests[socks]->gdown==4.4.0->flair) (1.26.9)\r\n",
      "Requirement already satisfied: certifi>=2017.4.17 in /opt/conda/lib/python3.7/site-packages (from requests[socks]->gdown==4.4.0->flair) (2022.6.15)\r\n",
      "Requirement already satisfied: charset-normalizer~=2.0.0 in /opt/conda/lib/python3.7/site-packages (from requests[socks]->gdown==4.4.0->flair) (2.0.12)\r\n",
      "Requirement already satisfied: idna<4,>=2.5 in /opt/conda/lib/python3.7/site-packages (from requests[socks]->gdown==4.4.0->flair) (3.3)\r\n",
      "Requirement already satisfied: soupsieve>1.2 in /opt/conda/lib/python3.7/site-packages (from beautifulsoup4->gdown==4.4.0->flair) (2.3.1)\r\n",
      "Requirement already satisfied: PySocks!=1.5.7,>=1.5.6 in /opt/conda/lib/python3.7/site-packages (from requests[socks]->gdown==4.4.0->flair) (1.7.1)\r\n",
      "Requirement already satisfied: click in /opt/conda/lib/python3.7/site-packages (from sacremoses->transformers>=4.0.0->flair) (8.0.4)\r\n",
      "Building wheels for collected packages: gdown, mpld3, sqlitedict, langdetect, pptree, wikipedia-api, overrides\r\n",
      "  Building wheel for gdown (pyproject.toml) ... \u001b[?25l-\b \b\\\b \b|\b \b/\b \b-\b \b\\\b \b|\b \bdone\r\n",
      "\u001b[?25h  Created wheel for gdown: filename=gdown-4.4.0-py3-none-any.whl size=14759 sha256=0a54074df4c7f2f3ded6337a56dcdfc355ea8eb40b462cbbe166cd25301fb639\r\n",
      "  Stored in directory: /root/.cache/pip/wheels/fb/c3/0e/c4d8ff8bfcb0461afff199471449f642179b74968c15b7a69c\r\n",
      "  Building wheel for mpld3 (setup.py) ... \u001b[?25l-\b \b\\\b \bdone\r\n",
      "\u001b[?25h  Created wheel for mpld3: filename=mpld3-0.3-py3-none-any.whl size=116702 sha256=ac7e7e84fe417e738f40ba79674b9fab10b5fed7adbb86832b729dea24aa4866\r\n",
      "  Stored in directory: /root/.cache/pip/wheels/26/70/6a/1c79e59951a41b4045497da187b2724f5659ca64033cf4548e\r\n",
      "  Building wheel for sqlitedict (setup.py) ... \u001b[?25l-\b \bdone\r\n",
      "\u001b[?25h  Created wheel for sqlitedict: filename=sqlitedict-2.0.0-py3-none-any.whl size=15736 sha256=20fa871a4800d37aa56d63b0986eb7c54fc32500b8583831c2e6a016048ec888\r\n",
      "  Stored in directory: /root/.cache/pip/wheels/96/dd/2e/0ed4a25cb73fc30c7ea8d10b50acb7226175736067e40a7ea3\r\n",
      "  Building wheel for langdetect (setup.py) ... \u001b[?25l-\b \b\\\b \b|\b \b/\b \bdone\r\n",
      "\u001b[?25h  Created wheel for langdetect: filename=langdetect-1.0.9-py3-none-any.whl size=993242 sha256=7ae0c2ac7b867808c179a8a09c86e03458a6db2179bbeafa4ec4ee614a814ee6\r\n",
      "  Stored in directory: /root/.cache/pip/wheels/c5/96/8a/f90c59ed25d75e50a8c10a1b1c2d4c402e4dacfa87f3aff36a\r\n",
      "  Building wheel for pptree (setup.py) ... \u001b[?25l-\b \bdone\r\n",
      "\u001b[?25h  Created wheel for pptree: filename=pptree-3.1-py3-none-any.whl size=4629 sha256=28c2c6bc5a75fadc0561a00643da05d3b358fc10759ecb8392d505775ee492a5\r\n",
      "  Stored in directory: /root/.cache/pip/wheels/9e/e8/7d/a9c3c19b4722608a0d8b05a38c36bc3f230c43becd2a46794b\r\n",
      "  Building wheel for wikipedia-api (setup.py) ... \u001b[?25l-\b \bdone\r\n",
      "\u001b[?25h  Created wheel for wikipedia-api: filename=Wikipedia_API-0.5.4-py3-none-any.whl size=13477 sha256=01ba34b8f8fc3767bd54e6b18f05426ef673f8101c3ab59392bf928032fc42ff\r\n",
      "  Stored in directory: /root/.cache/pip/wheels/d3/24/56/58ba93cf78be162451144e7a9889603f437976ef1ae7013d04\r\n",
      "  Building wheel for overrides (setup.py) ... \u001b[?25l-\b \bdone\r\n",
      "\u001b[?25h  Created wheel for overrides: filename=overrides-3.1.0-py3-none-any.whl size=10187 sha256=40b5e9d0f571a92fef7b7f9f53560d56ccbba05322d6988cd968a8e5ce0d09d6\r\n",
      "  Stored in directory: /root/.cache/pip/wheels/3a/0d/38/01a9bc6e20dcfaf0a6a7b552d03137558ba1c38aea47644682\r\n",
      "Successfully built gdown mpld3 sqlitedict langdetect pptree wikipedia-api overrides\r\n",
      "Installing collected packages: sqlitedict, sentencepiece, pptree, overrides, mpld3, segtok, langdetect, importlib-metadata, ftfy, deprecated, conllu, wikipedia-api, konoha, gdown, bpemb, flair\r\n",
      "  Attempting uninstall: sentencepiece\r\n",
      "    Found existing installation: sentencepiece 0.1.96\r\n",
      "    Uninstalling sentencepiece-0.1.96:\r\n",
      "      Successfully uninstalled sentencepiece-0.1.96\r\n",
      "  Attempting uninstall: overrides\r\n",
      "    Found existing installation: overrides 6.1.0\r\n",
      "    Uninstalling overrides-6.1.0:\r\n",
      "      Successfully uninstalled overrides-6.1.0\r\n",
      "  Attempting uninstall: mpld3\r\n",
      "    Found existing installation: mpld3 0.5.8\r\n",
      "    Uninstalling mpld3-0.5.8:\r\n",
      "      Successfully uninstalled mpld3-0.5.8\r\n",
      "  Attempting uninstall: importlib-metadata\r\n",
      "    Found existing installation: importlib-metadata 4.11.4\r\n",
      "    Uninstalling importlib-metadata-4.11.4:\r\n",
      "      Successfully uninstalled importlib-metadata-4.11.4\r\n",
      "\u001b[31mERROR: pip's dependency resolver does not currently take into account all the packages that are installed. This behaviour is the source of the following dependency conflicts.\r\n",
      "markdown 3.3.7 requires importlib-metadata>=4.4; python_version < \"3.10\", but you have importlib-metadata 3.10.1 which is incompatible.\r\n",
      "ibis-framework 2.1.1 requires importlib-metadata<5,>=4; python_version < \"3.8\", but you have importlib-metadata 3.10.1 which is incompatible.\r\n",
      "gym 0.24.1 requires importlib-metadata>=4.8.0; python_version < \"3.10\", but you have importlib-metadata 3.10.1 which is incompatible.\r\n",
      "google-cloud-pubsublite 1.4.2 requires overrides<7.0.0,>=6.0.1, but you have overrides 3.1.0 which is incompatible.\u001b[0m\u001b[31m\r\n",
      "\u001b[0mSuccessfully installed bpemb-0.3.3 conllu-4.4.2 deprecated-1.2.13 flair-0.11.3 ftfy-6.1.1 gdown-4.4.0 importlib-metadata-3.10.1 konoha-4.6.5 langdetect-1.0.9 mpld3-0.3 overrides-3.1.0 pptree-3.1 segtok-1.5.11 sentencepiece-0.1.95 sqlitedict-2.0.0 wikipedia-api-0.5.4\r\n",
      "\u001b[33mWARNING: Running pip as the 'root' user can result in broken permissions and conflicting behaviour with the system package manager. It is recommended to use a virtual environment instead: https://pip.pypa.io/warnings/venv\u001b[0m\u001b[33m\r\n",
      "\u001b[0m"
     ]
    }
   ],
   "source": [
    "!pip install  flair"
   ]
  },
  {
   "cell_type": "code",
   "execution_count": 3,
   "id": "c50bc5e6",
   "metadata": {
    "execution": {
     "iopub.execute_input": "2022-06-25T23:24:57.447894Z",
     "iopub.status.busy": "2022-06-25T23:24:57.446812Z",
     "iopub.status.idle": "2022-06-25T23:24:58.079217Z",
     "shell.execute_reply": "2022-06-25T23:24:58.078267Z"
    },
    "papermill": {
     "duration": 0.648891,
     "end_time": "2022-06-25T23:24:58.081723",
     "exception": false,
     "start_time": "2022-06-25T23:24:57.432832",
     "status": "completed"
    },
    "tags": []
   },
   "outputs": [],
   "source": [
    "df = pd.read_csv(\"/kaggle/input/fake-or-real-news/fake_or_real_news.csv\")"
   ]
  },
  {
   "cell_type": "code",
   "execution_count": 4,
   "id": "fb9db38f",
   "metadata": {
    "execution": {
     "iopub.execute_input": "2022-06-25T23:24:58.109657Z",
     "iopub.status.busy": "2022-06-25T23:24:58.108045Z",
     "iopub.status.idle": "2022-06-25T23:24:58.129990Z",
     "shell.execute_reply": "2022-06-25T23:24:58.129028Z"
    },
    "papermill": {
     "duration": 0.038239,
     "end_time": "2022-06-25T23:24:58.132658",
     "exception": false,
     "start_time": "2022-06-25T23:24:58.094419",
     "status": "completed"
    },
    "tags": []
   },
   "outputs": [
    {
     "data": {
      "text/html": [
       "<div>\n",
       "<style scoped>\n",
       "    .dataframe tbody tr th:only-of-type {\n",
       "        vertical-align: middle;\n",
       "    }\n",
       "\n",
       "    .dataframe tbody tr th {\n",
       "        vertical-align: top;\n",
       "    }\n",
       "\n",
       "    .dataframe thead th {\n",
       "        text-align: right;\n",
       "    }\n",
       "</style>\n",
       "<table border=\"1\" class=\"dataframe\">\n",
       "  <thead>\n",
       "    <tr style=\"text-align: right;\">\n",
       "      <th></th>\n",
       "      <th>Unnamed: 0</th>\n",
       "      <th>title</th>\n",
       "      <th>text</th>\n",
       "      <th>label</th>\n",
       "    </tr>\n",
       "  </thead>\n",
       "  <tbody>\n",
       "    <tr>\n",
       "      <th>0</th>\n",
       "      <td>8476</td>\n",
       "      <td>You Can Smell Hillary’s Fear</td>\n",
       "      <td>Daniel Greenfield, a Shillman Journalism Fello...</td>\n",
       "      <td>FAKE</td>\n",
       "    </tr>\n",
       "    <tr>\n",
       "      <th>1</th>\n",
       "      <td>10294</td>\n",
       "      <td>Watch The Exact Moment Paul Ryan Committed Pol...</td>\n",
       "      <td>Google Pinterest Digg Linkedin Reddit Stumbleu...</td>\n",
       "      <td>FAKE</td>\n",
       "    </tr>\n",
       "    <tr>\n",
       "      <th>2</th>\n",
       "      <td>3608</td>\n",
       "      <td>Kerry to go to Paris in gesture of sympathy</td>\n",
       "      <td>U.S. Secretary of State John F. Kerry said Mon...</td>\n",
       "      <td>REAL</td>\n",
       "    </tr>\n",
       "    <tr>\n",
       "      <th>3</th>\n",
       "      <td>10142</td>\n",
       "      <td>Bernie supporters on Twitter erupt in anger ag...</td>\n",
       "      <td>— Kaydee King (@KaydeeKing) November 9, 2016 T...</td>\n",
       "      <td>FAKE</td>\n",
       "    </tr>\n",
       "    <tr>\n",
       "      <th>4</th>\n",
       "      <td>875</td>\n",
       "      <td>The Battle of New York: Why This Primary Matters</td>\n",
       "      <td>It's primary day in New York and front-runners...</td>\n",
       "      <td>REAL</td>\n",
       "    </tr>\n",
       "    <tr>\n",
       "      <th>...</th>\n",
       "      <td>...</td>\n",
       "      <td>...</td>\n",
       "      <td>...</td>\n",
       "      <td>...</td>\n",
       "    </tr>\n",
       "    <tr>\n",
       "      <th>6330</th>\n",
       "      <td>4490</td>\n",
       "      <td>State Department says it can't find emails fro...</td>\n",
       "      <td>The State Department told the Republican Natio...</td>\n",
       "      <td>REAL</td>\n",
       "    </tr>\n",
       "    <tr>\n",
       "      <th>6331</th>\n",
       "      <td>8062</td>\n",
       "      <td>The ‘P’ in PBS Should Stand for ‘Plutocratic’ ...</td>\n",
       "      <td>The ‘P’ in PBS Should Stand for ‘Plutocratic’ ...</td>\n",
       "      <td>FAKE</td>\n",
       "    </tr>\n",
       "    <tr>\n",
       "      <th>6332</th>\n",
       "      <td>8622</td>\n",
       "      <td>Anti-Trump Protesters Are Tools of the Oligarc...</td>\n",
       "      <td>Anti-Trump Protesters Are Tools of the Oligar...</td>\n",
       "      <td>FAKE</td>\n",
       "    </tr>\n",
       "    <tr>\n",
       "      <th>6333</th>\n",
       "      <td>4021</td>\n",
       "      <td>In Ethiopia, Obama seeks progress on peace, se...</td>\n",
       "      <td>ADDIS ABABA, Ethiopia —President Obama convene...</td>\n",
       "      <td>REAL</td>\n",
       "    </tr>\n",
       "    <tr>\n",
       "      <th>6334</th>\n",
       "      <td>4330</td>\n",
       "      <td>Jeb Bush Is Suddenly Attacking Trump. Here's W...</td>\n",
       "      <td>Jeb Bush Is Suddenly Attacking Trump. Here's W...</td>\n",
       "      <td>REAL</td>\n",
       "    </tr>\n",
       "  </tbody>\n",
       "</table>\n",
       "<p>6335 rows × 4 columns</p>\n",
       "</div>"
      ],
      "text/plain": [
       "      Unnamed: 0                                              title  \\\n",
       "0           8476                       You Can Smell Hillary’s Fear   \n",
       "1          10294  Watch The Exact Moment Paul Ryan Committed Pol...   \n",
       "2           3608        Kerry to go to Paris in gesture of sympathy   \n",
       "3          10142  Bernie supporters on Twitter erupt in anger ag...   \n",
       "4            875   The Battle of New York: Why This Primary Matters   \n",
       "...          ...                                                ...   \n",
       "6330        4490  State Department says it can't find emails fro...   \n",
       "6331        8062  The ‘P’ in PBS Should Stand for ‘Plutocratic’ ...   \n",
       "6332        8622  Anti-Trump Protesters Are Tools of the Oligarc...   \n",
       "6333        4021  In Ethiopia, Obama seeks progress on peace, se...   \n",
       "6334        4330  Jeb Bush Is Suddenly Attacking Trump. Here's W...   \n",
       "\n",
       "                                                   text label  \n",
       "0     Daniel Greenfield, a Shillman Journalism Fello...  FAKE  \n",
       "1     Google Pinterest Digg Linkedin Reddit Stumbleu...  FAKE  \n",
       "2     U.S. Secretary of State John F. Kerry said Mon...  REAL  \n",
       "3     — Kaydee King (@KaydeeKing) November 9, 2016 T...  FAKE  \n",
       "4     It's primary day in New York and front-runners...  REAL  \n",
       "...                                                 ...   ...  \n",
       "6330  The State Department told the Republican Natio...  REAL  \n",
       "6331  The ‘P’ in PBS Should Stand for ‘Plutocratic’ ...  FAKE  \n",
       "6332   Anti-Trump Protesters Are Tools of the Oligar...  FAKE  \n",
       "6333  ADDIS ABABA, Ethiopia —President Obama convene...  REAL  \n",
       "6334  Jeb Bush Is Suddenly Attacking Trump. Here's W...  REAL  \n",
       "\n",
       "[6335 rows x 4 columns]"
      ]
     },
     "execution_count": 4,
     "metadata": {},
     "output_type": "execute_result"
    }
   ],
   "source": [
    "df"
   ]
  },
  {
   "cell_type": "code",
   "execution_count": 5,
   "id": "34ad5f11",
   "metadata": {
    "execution": {
     "iopub.execute_input": "2022-06-25T23:24:58.159460Z",
     "iopub.status.busy": "2022-06-25T23:24:58.159212Z",
     "iopub.status.idle": "2022-06-25T23:24:58.178737Z",
     "shell.execute_reply": "2022-06-25T23:24:58.177796Z"
    },
    "papermill": {
     "duration": 0.035234,
     "end_time": "2022-06-25T23:24:58.181199",
     "exception": false,
     "start_time": "2022-06-25T23:24:58.145965",
     "status": "completed"
    },
    "tags": []
   },
   "outputs": [
    {
     "data": {
      "text/html": [
       "<div>\n",
       "<style scoped>\n",
       "    .dataframe tbody tr th:only-of-type {\n",
       "        vertical-align: middle;\n",
       "    }\n",
       "\n",
       "    .dataframe tbody tr th {\n",
       "        vertical-align: top;\n",
       "    }\n",
       "\n",
       "    .dataframe thead th {\n",
       "        text-align: right;\n",
       "    }\n",
       "</style>\n",
       "<table border=\"1\" class=\"dataframe\">\n",
       "  <thead>\n",
       "    <tr style=\"text-align: right;\">\n",
       "      <th></th>\n",
       "      <th>Unnamed: 0</th>\n",
       "      <th>title</th>\n",
       "      <th>text</th>\n",
       "    </tr>\n",
       "    <tr>\n",
       "      <th>label</th>\n",
       "      <th></th>\n",
       "      <th></th>\n",
       "      <th></th>\n",
       "    </tr>\n",
       "  </thead>\n",
       "  <tbody>\n",
       "    <tr>\n",
       "      <th>FAKE</th>\n",
       "      <td>3164</td>\n",
       "      <td>3164</td>\n",
       "      <td>3164</td>\n",
       "    </tr>\n",
       "    <tr>\n",
       "      <th>REAL</th>\n",
       "      <td>3171</td>\n",
       "      <td>3171</td>\n",
       "      <td>3171</td>\n",
       "    </tr>\n",
       "  </tbody>\n",
       "</table>\n",
       "</div>"
      ],
      "text/plain": [
       "       Unnamed: 0  title  text\n",
       "label                         \n",
       "FAKE         3164   3164  3164\n",
       "REAL         3171   3171  3171"
      ]
     },
     "execution_count": 5,
     "metadata": {},
     "output_type": "execute_result"
    }
   ],
   "source": [
    "df.groupby(\"label\").count()"
   ]
  },
  {
   "cell_type": "code",
   "execution_count": 6,
   "id": "f5989da8",
   "metadata": {
    "execution": {
     "iopub.execute_input": "2022-06-25T23:24:58.208699Z",
     "iopub.status.busy": "2022-06-25T23:24:58.208437Z",
     "iopub.status.idle": "2022-06-25T23:24:58.254735Z",
     "shell.execute_reply": "2022-06-25T23:24:58.253882Z"
    },
    "papermill": {
     "duration": 0.062195,
     "end_time": "2022-06-25T23:24:58.256979",
     "exception": false,
     "start_time": "2022-06-25T23:24:58.194784",
     "status": "completed"
    },
    "tags": []
   },
   "outputs": [],
   "source": [
    "data = []\n",
    "for zipped in zip(df.title, df.text):\n",
    "    data.append('\\n'.join(zipped))\n",
    "data = pd.DataFrame({\"title_text\": data})"
   ]
  },
  {
   "cell_type": "code",
   "execution_count": 7,
   "id": "6693ef86",
   "metadata": {
    "execution": {
     "iopub.execute_input": "2022-06-25T23:24:58.284527Z",
     "iopub.status.busy": "2022-06-25T23:24:58.283978Z",
     "iopub.status.idle": "2022-06-25T23:24:58.292975Z",
     "shell.execute_reply": "2022-06-25T23:24:58.292194Z"
    },
    "papermill": {
     "duration": 0.024637,
     "end_time": "2022-06-25T23:24:58.294692",
     "exception": false,
     "start_time": "2022-06-25T23:24:58.270055",
     "status": "completed"
    },
    "tags": []
   },
   "outputs": [],
   "source": [
    "df = df.join(data)"
   ]
  },
  {
   "cell_type": "code",
   "execution_count": 8,
   "id": "b6b078e4",
   "metadata": {
    "execution": {
     "iopub.execute_input": "2022-06-25T23:24:58.322902Z",
     "iopub.status.busy": "2022-06-25T23:24:58.322153Z",
     "iopub.status.idle": "2022-06-25T23:25:05.487295Z",
     "shell.execute_reply": "2022-06-25T23:25:05.486373Z"
    },
    "papermill": {
     "duration": 7.181094,
     "end_time": "2022-06-25T23:25:05.489623",
     "exception": false,
     "start_time": "2022-06-25T23:24:58.308529",
     "status": "completed"
    },
    "tags": []
   },
   "outputs": [],
   "source": [
    "from flair.models import TextClassifier"
   ]
  },
  {
   "cell_type": "code",
   "execution_count": 9,
   "id": "7de8b2eb",
   "metadata": {
    "execution": {
     "iopub.execute_input": "2022-06-25T23:25:05.517428Z",
     "iopub.status.busy": "2022-06-25T23:25:05.516374Z",
     "iopub.status.idle": "2022-06-25T23:25:05.521263Z",
     "shell.execute_reply": "2022-06-25T23:25:05.520433Z"
    },
    "papermill": {
     "duration": 0.020422,
     "end_time": "2022-06-25T23:25:05.523188",
     "exception": false,
     "start_time": "2022-06-25T23:25:05.502766",
     "status": "completed"
    },
    "tags": []
   },
   "outputs": [],
   "source": [
    "from flair.data import Sentence"
   ]
  },
  {
   "cell_type": "code",
   "execution_count": 10,
   "id": "c868fc9b",
   "metadata": {
    "execution": {
     "iopub.execute_input": "2022-06-25T23:25:05.550249Z",
     "iopub.status.busy": "2022-06-25T23:25:05.549480Z",
     "iopub.status.idle": "2022-06-25T23:25:05.559693Z",
     "shell.execute_reply": "2022-06-25T23:25:05.558882Z"
    },
    "papermill": {
     "duration": 0.025782,
     "end_time": "2022-06-25T23:25:05.561580",
     "exception": false,
     "start_time": "2022-06-25T23:25:05.535798",
     "status": "completed"
    },
    "tags": []
   },
   "outputs": [],
   "source": [
    "from sklearn.model_selection import train_test_split\n",
    "X_train, X_test = train_test_split(df, test_size=0.2)"
   ]
  },
  {
   "cell_type": "code",
   "execution_count": 11,
   "id": "78871d1e",
   "metadata": {
    "execution": {
     "iopub.execute_input": "2022-06-25T23:25:05.588974Z",
     "iopub.status.busy": "2022-06-25T23:25:05.588186Z",
     "iopub.status.idle": "2022-06-25T23:25:05.594572Z",
     "shell.execute_reply": "2022-06-25T23:25:05.593540Z"
    },
    "papermill": {
     "duration": 0.021784,
     "end_time": "2022-06-25T23:25:05.596566",
     "exception": false,
     "start_time": "2022-06-25T23:25:05.574782",
     "status": "completed"
    },
    "tags": []
   },
   "outputs": [
    {
     "data": {
      "text/plain": [
       "((1267, 5), (5068, 5))"
      ]
     },
     "execution_count": 11,
     "metadata": {},
     "output_type": "execute_result"
    }
   ],
   "source": [
    "X_test.shape, X_train.shape"
   ]
  },
  {
   "cell_type": "code",
   "execution_count": 12,
   "id": "e53a2f85",
   "metadata": {
    "execution": {
     "iopub.execute_input": "2022-06-25T23:25:05.624020Z",
     "iopub.status.busy": "2022-06-25T23:25:05.623772Z",
     "iopub.status.idle": "2022-06-25T23:25:06.354814Z",
     "shell.execute_reply": "2022-06-25T23:25:06.353444Z"
    },
    "papermill": {
     "duration": 0.747671,
     "end_time": "2022-06-25T23:25:06.357898",
     "exception": false,
     "start_time": "2022-06-25T23:25:05.610227",
     "status": "completed"
    },
    "tags": []
   },
   "outputs": [],
   "source": [
    "!mkdir data"
   ]
  },
  {
   "cell_type": "code",
   "execution_count": 13,
   "id": "8722cb13",
   "metadata": {
    "execution": {
     "iopub.execute_input": "2022-06-25T23:25:06.403109Z",
     "iopub.status.busy": "2022-06-25T23:25:06.402455Z",
     "iopub.status.idle": "2022-06-25T23:25:08.997699Z",
     "shell.execute_reply": "2022-06-25T23:25:08.996714Z"
    },
    "papermill": {
     "duration": 2.619666,
     "end_time": "2022-06-25T23:25:09.000039",
     "exception": false,
     "start_time": "2022-06-25T23:25:06.380373",
     "status": "completed"
    },
    "tags": []
   },
   "outputs": [],
   "source": [
    "\n",
    "X_test.to_csv(\"data/test.csv\", index=False)\n",
    "X_train.to_csv(\"data/train.csv\", index=False)"
   ]
  },
  {
   "cell_type": "code",
   "execution_count": 14,
   "id": "444ae8a9",
   "metadata": {
    "execution": {
     "iopub.execute_input": "2022-06-25T23:25:09.029896Z",
     "iopub.status.busy": "2022-06-25T23:25:09.029219Z",
     "iopub.status.idle": "2022-06-25T23:25:09.163135Z",
     "shell.execute_reply": "2022-06-25T23:25:09.162148Z"
    },
    "papermill": {
     "duration": 0.150768,
     "end_time": "2022-06-25T23:25:09.165990",
     "exception": false,
     "start_time": "2022-06-25T23:25:09.015222",
     "status": "completed"
    },
    "tags": []
   },
   "outputs": [
    {
     "data": {
      "text/html": [
       "<div>\n",
       "<style scoped>\n",
       "    .dataframe tbody tr th:only-of-type {\n",
       "        vertical-align: middle;\n",
       "    }\n",
       "\n",
       "    .dataframe tbody tr th {\n",
       "        vertical-align: top;\n",
       "    }\n",
       "\n",
       "    .dataframe thead th {\n",
       "        text-align: right;\n",
       "    }\n",
       "</style>\n",
       "<table border=\"1\" class=\"dataframe\">\n",
       "  <thead>\n",
       "    <tr style=\"text-align: right;\">\n",
       "      <th></th>\n",
       "      <th>Unnamed: 0</th>\n",
       "      <th>title</th>\n",
       "      <th>text</th>\n",
       "      <th>label</th>\n",
       "      <th>title_text</th>\n",
       "    </tr>\n",
       "  </thead>\n",
       "  <tbody>\n",
       "    <tr>\n",
       "      <th>0</th>\n",
       "      <td>354</td>\n",
       "      <td>New Player in the ISIS War: Christian Gazillio...</td>\n",
       "      <td>He’s best known for bankrolling Republicans Ri...</td>\n",
       "      <td>REAL</td>\n",
       "      <td>New Player in the ISIS War: Christian Gazillio...</td>\n",
       "    </tr>\n",
       "    <tr>\n",
       "      <th>1</th>\n",
       "      <td>972</td>\n",
       "      <td>Past cases suggest Hillary won’t be indicted</td>\n",
       "      <td>\"One should not insist on nailing [Trump] into...</td>\n",
       "      <td>REAL</td>\n",
       "      <td>Past cases suggest Hillary won’t be indicted\\n...</td>\n",
       "    </tr>\n",
       "    <tr>\n",
       "      <th>2</th>\n",
       "      <td>5048</td>\n",
       "      <td>Poll: Voters trust Trump on economy, Clinton o...</td>\n",
       "      <td>Voters say the top issues facing the country a...</td>\n",
       "      <td>REAL</td>\n",
       "      <td>Poll: Voters trust Trump on economy, Clinton o...</td>\n",
       "    </tr>\n",
       "    <tr>\n",
       "      <th>3</th>\n",
       "      <td>3433</td>\n",
       "      <td>How Scalia's death could change Supreme Court ...</td>\n",
       "      <td>Antonin Scalia was a conservative giant on the...</td>\n",
       "      <td>REAL</td>\n",
       "      <td>How Scalia's death could change Supreme Court ...</td>\n",
       "    </tr>\n",
       "    <tr>\n",
       "      <th>4</th>\n",
       "      <td>8142</td>\n",
       "      <td>We Live In A Time Where Each Individual Has Im...</td>\n",
       "      <td>By Vin Armani You know the state is in trouble...</td>\n",
       "      <td>FAKE</td>\n",
       "      <td>We Live In A Time Where Each Individual Has Im...</td>\n",
       "    </tr>\n",
       "    <tr>\n",
       "      <th>...</th>\n",
       "      <td>...</td>\n",
       "      <td>...</td>\n",
       "      <td>...</td>\n",
       "      <td>...</td>\n",
       "      <td>...</td>\n",
       "    </tr>\n",
       "    <tr>\n",
       "      <th>1262</th>\n",
       "      <td>4924</td>\n",
       "      <td>Trump Brings Message of Faith, Unity to Black ...</td>\n",
       "      <td>Donald Trump addressed Great Faith Ministries ...</td>\n",
       "      <td>REAL</td>\n",
       "      <td>Trump Brings Message of Faith, Unity to Black ...</td>\n",
       "    </tr>\n",
       "    <tr>\n",
       "      <th>1263</th>\n",
       "      <td>9853</td>\n",
       "      <td>Wikileaks: Clinton, Podesta Agreed Not To Dist...</td>\n",
       "      <td>Videos Wikileaks: Clinton, Podesta Agreed Not ...</td>\n",
       "      <td>FAKE</td>\n",
       "      <td>Wikileaks: Clinton, Podesta Agreed Not To Dist...</td>\n",
       "    </tr>\n",
       "    <tr>\n",
       "      <th>1264</th>\n",
       "      <td>7899</td>\n",
       "      <td>Cyber War  From Trifle to Catastrophe     : I...</td>\n",
       "      <td>Cyber War - From Trifle to Catastrophe By Ern...</td>\n",
       "      <td>FAKE</td>\n",
       "      <td>Cyber War  From Trifle to Catastrophe     : I...</td>\n",
       "    </tr>\n",
       "    <tr>\n",
       "      <th>1265</th>\n",
       "      <td>1247</td>\n",
       "      <td>Jeb’s Sad, Quixotic South Carolina Slog</td>\n",
       "      <td>Jeb’s tried to be what the voters want him to ...</td>\n",
       "      <td>REAL</td>\n",
       "      <td>Jeb’s Sad, Quixotic South Carolina Slog\\nJeb’s...</td>\n",
       "    </tr>\n",
       "    <tr>\n",
       "      <th>1266</th>\n",
       "      <td>1329</td>\n",
       "      <td>How Clinton plans to stop Sanders' momentum</td>\n",
       "      <td>Killing Obama administration rules, dismantlin...</td>\n",
       "      <td>REAL</td>\n",
       "      <td>How Clinton plans to stop Sanders' momentum\\nK...</td>\n",
       "    </tr>\n",
       "  </tbody>\n",
       "</table>\n",
       "<p>1267 rows × 5 columns</p>\n",
       "</div>"
      ],
      "text/plain": [
       "      Unnamed: 0                                              title  \\\n",
       "0            354  New Player in the ISIS War: Christian Gazillio...   \n",
       "1            972       Past cases suggest Hillary won’t be indicted   \n",
       "2           5048  Poll: Voters trust Trump on economy, Clinton o...   \n",
       "3           3433  How Scalia's death could change Supreme Court ...   \n",
       "4           8142  We Live In A Time Where Each Individual Has Im...   \n",
       "...          ...                                                ...   \n",
       "1262        4924  Trump Brings Message of Faith, Unity to Black ...   \n",
       "1263        9853  Wikileaks: Clinton, Podesta Agreed Not To Dist...   \n",
       "1264        7899  Cyber War  From Trifle to Catastrophe     : I...   \n",
       "1265        1247            Jeb’s Sad, Quixotic South Carolina Slog   \n",
       "1266        1329        How Clinton plans to stop Sanders' momentum   \n",
       "\n",
       "                                                   text label  \\\n",
       "0     He’s best known for bankrolling Republicans Ri...  REAL   \n",
       "1     \"One should not insist on nailing [Trump] into...  REAL   \n",
       "2     Voters say the top issues facing the country a...  REAL   \n",
       "3     Antonin Scalia was a conservative giant on the...  REAL   \n",
       "4     By Vin Armani You know the state is in trouble...  FAKE   \n",
       "...                                                 ...   ...   \n",
       "1262  Donald Trump addressed Great Faith Ministries ...  REAL   \n",
       "1263  Videos Wikileaks: Clinton, Podesta Agreed Not ...  FAKE   \n",
       "1264   Cyber War - From Trifle to Catastrophe By Ern...  FAKE   \n",
       "1265  Jeb’s tried to be what the voters want him to ...  REAL   \n",
       "1266  Killing Obama administration rules, dismantlin...  REAL   \n",
       "\n",
       "                                             title_text  \n",
       "0     New Player in the ISIS War: Christian Gazillio...  \n",
       "1     Past cases suggest Hillary won’t be indicted\\n...  \n",
       "2     Poll: Voters trust Trump on economy, Clinton o...  \n",
       "3     How Scalia's death could change Supreme Court ...  \n",
       "4     We Live In A Time Where Each Individual Has Im...  \n",
       "...                                                 ...  \n",
       "1262  Trump Brings Message of Faith, Unity to Black ...  \n",
       "1263  Wikileaks: Clinton, Podesta Agreed Not To Dist...  \n",
       "1264  Cyber War  From Trifle to Catastrophe     : I...  \n",
       "1265  Jeb’s Sad, Quixotic South Carolina Slog\\nJeb’s...  \n",
       "1266  How Clinton plans to stop Sanders' momentum\\nK...  \n",
       "\n",
       "[1267 rows x 5 columns]"
      ]
     },
     "execution_count": 14,
     "metadata": {},
     "output_type": "execute_result"
    }
   ],
   "source": [
    "pd.read_csv(\"data/test.csv\")"
   ]
  },
  {
   "cell_type": "code",
   "execution_count": 15,
   "id": "13d10476",
   "metadata": {
    "execution": {
     "iopub.execute_input": "2022-06-25T23:25:09.194144Z",
     "iopub.status.busy": "2022-06-25T23:25:09.193845Z",
     "iopub.status.idle": "2022-06-25T23:25:11.196702Z",
     "shell.execute_reply": "2022-06-25T23:25:11.195650Z"
    },
    "papermill": {
     "duration": 2.019881,
     "end_time": "2022-06-25T23:25:11.199727",
     "exception": false,
     "start_time": "2022-06-25T23:25:09.179846",
     "status": "completed"
    },
    "tags": []
   },
   "outputs": [
    {
     "name": "stdout",
     "output_type": "stream",
     "text": [
      "2022-06-25 23:25:09,197 Reading data from data\n",
      "2022-06-25 23:25:09,199 Train: data/train.csv\n",
      "2022-06-25 23:25:09,200 Dev: None\n",
      "2022-06-25 23:25:09,201 Test: data/test.csv\n"
     ]
    }
   ],
   "source": [
    "from flair.data import Corpus\n",
    "from flair.datasets import CSVClassificationCorpus\n",
    "\n",
    "data_folder = \"data\"\n",
    "label_type=\"news_status\"\n",
    "column_name_map = {4: \"text\", 3: \"label\"}\n",
    "\n",
    "corpus = CSVClassificationCorpus(data_folder,\n",
    "                                         column_name_map,\n",
    "                                         skip_header=True,\n",
    "                                         delimiter=',',\n",
    "                                        label_type=label_type)"
   ]
  },
  {
   "cell_type": "code",
   "execution_count": 16,
   "id": "3428a835",
   "metadata": {
    "execution": {
     "iopub.execute_input": "2022-06-25T23:25:11.243722Z",
     "iopub.status.busy": "2022-06-25T23:25:11.242966Z",
     "iopub.status.idle": "2022-06-25T23:25:11.478771Z",
     "shell.execute_reply": "2022-06-25T23:25:11.477722Z"
    },
    "papermill": {
     "duration": 0.257769,
     "end_time": "2022-06-25T23:25:11.481683",
     "exception": false,
     "start_time": "2022-06-25T23:25:11.223914",
     "status": "completed"
    },
    "tags": []
   },
   "outputs": [
    {
     "data": {
      "text/plain": [
       "Sentence: \"Warming of oceans due to climate change is unstoppable , say US scientists The warming of the oceans due to climate change is now unstoppable after record temperatures last year , bringing additional sea-level rise , and raising the risks of severe storms , US government climate scientists said on Thursday . The annual State of the Climate in 2014 report , based on research from 413 scientists from 58 countries , found record warming on the surface and upper levels of the oceans , especially in the North Pacific , in line with earlier findings of 2014 as the hottest year on record . Global sea-level also reached a record high , with the expansion of those warming waters , keeping pace with the 3.2 ± 0.4 mm per year trend in sea level growth over the past two decades , the report said . Scientists said the consequences of those warmer ocean temperatures would be felt for centuries to come – even if there were immediate efforts to cut the carbon emissions fuelling changes in the oceans . “ I think of it more like a fly wheel or a freight train . It takes a big push to get it going but it is moving now and will contiue to move long after we continue to pushing it ,” Greg Johnson , an oceanographer at Noaa ’s Pacific Marine Environmental Laboratory , told a conference call with reporters . “ Even if we were to freeze greenhouse gases at current levels , the sea would actually continue to warm for centuries and millennia , and as they continue to warm and expand the sea levels will continue to rise ,” Johnson said . On the west coast of the US , freakishly warm temperatures in the Pacific – 4 or 5F above normal – were already producing warmer winters , as well as worsening drought conditions by melting the snowpack , he said . The extra heat in the oceans was also contributing to more intense storms , Tom Karl , director of Noaa ’s National Centers for Environmental Information , said . The report underlined 2014 as a banner year for the climate , setting record or near record levels for temperature extremes , and loss of glaciers and sea ice , and reinforcing decades-old pattern to changes to the climate system . Four independent data sets confirmed 2014 as the hottest year on record , with much of that heat driven by the warming of the oceans . Globally 90 % of the excess heat caused by the rise in greenhouse gas emissions is absorbed by the oceans . More than 20 countries in Europe set new heat records , with Africa , Asia and Australia also experiencing near-record heat . The east coast of North America was the only region to experience cooler than average conditions . Alaska experienced temperatures 18F warmer than average . Spring break-up came to the Arctic 20-30 days earlier than the 20th century average . “ The prognosis is to expect a continuation of what we have seen ,” Karl said .\" → REAL (1.0)"
      ]
     },
     "execution_count": 16,
     "metadata": {},
     "output_type": "execute_result"
    }
   ],
   "source": [
    "corpus.train[0]"
   ]
  },
  {
   "cell_type": "code",
   "execution_count": 17,
   "id": "9e3dabca",
   "metadata": {
    "execution": {
     "iopub.execute_input": "2022-06-25T23:25:11.511077Z",
     "iopub.status.busy": "2022-06-25T23:25:11.510774Z",
     "iopub.status.idle": "2022-06-25T23:27:08.634528Z",
     "shell.execute_reply": "2022-06-25T23:27:08.633001Z"
    },
    "papermill": {
     "duration": 117.141151,
     "end_time": "2022-06-25T23:27:08.636694",
     "exception": false,
     "start_time": "2022-06-25T23:25:11.495543",
     "status": "completed"
    },
    "tags": []
   },
   "outputs": [
    {
     "name": "stdout",
     "output_type": "stream",
     "text": [
      "2022-06-25 23:25:11,512 Computing label dictionary. Progress:\n"
     ]
    },
    {
     "name": "stderr",
     "output_type": "stream",
     "text": [
      "4561it [01:57, 38.95it/s]"
     ]
    },
    {
     "name": "stdout",
     "output_type": "stream",
     "text": [
      "2022-06-25 23:27:08,627 Dictionary created for label 'news_status' with 3 values: FAKE (seen 2296 times), REAL (seen 2265 times)\n"
     ]
    },
    {
     "name": "stderr",
     "output_type": "stream",
     "text": [
      "\n"
     ]
    },
    {
     "data": {
      "text/plain": [
       "'FAKE'"
      ]
     },
     "execution_count": 17,
     "metadata": {},
     "output_type": "execute_result"
    }
   ],
   "source": [
    "label_dict = corpus.make_label_dictionary(label_type=label_type)\n",
    "label_dict.get_item_for_index(1)"
   ]
  },
  {
   "cell_type": "code",
   "execution_count": 18,
   "id": "b3640320",
   "metadata": {
    "execution": {
     "iopub.execute_input": "2022-06-25T23:27:08.750782Z",
     "iopub.status.busy": "2022-06-25T23:27:08.749849Z",
     "iopub.status.idle": "2022-06-25T23:27:30.375302Z",
     "shell.execute_reply": "2022-06-25T23:27:30.374321Z"
    },
    "papermill": {
     "duration": 21.683913,
     "end_time": "2022-06-25T23:27:30.377654",
     "exception": false,
     "start_time": "2022-06-25T23:27:08.693741",
     "status": "completed"
    },
    "tags": []
   },
   "outputs": [
    {
     "data": {
      "application/vnd.jupyter.widget-view+json": {
       "model_id": "d28344fefe99492181a81acc695e0112",
       "version_major": 2,
       "version_minor": 0
      },
      "text/plain": [
       "Downloading:   0%|          | 0.00/28.0 [00:00<?, ?B/s]"
      ]
     },
     "metadata": {},
     "output_type": "display_data"
    },
    {
     "data": {
      "application/vnd.jupyter.widget-view+json": {
       "model_id": "d8c6d504f64447fa8de1c732f850c4e4",
       "version_major": 2,
       "version_minor": 0
      },
      "text/plain": [
       "Downloading:   0%|          | 0.00/483 [00:00<?, ?B/s]"
      ]
     },
     "metadata": {},
     "output_type": "display_data"
    },
    {
     "data": {
      "application/vnd.jupyter.widget-view+json": {
       "model_id": "fec2c81ee70c4093876bfb488dc0e762",
       "version_major": 2,
       "version_minor": 0
      },
      "text/plain": [
       "Downloading:   0%|          | 0.00/226k [00:00<?, ?B/s]"
      ]
     },
     "metadata": {},
     "output_type": "display_data"
    },
    {
     "data": {
      "application/vnd.jupyter.widget-view+json": {
       "model_id": "4b99951d905648ca95508e27740a8c36",
       "version_major": 2,
       "version_minor": 0
      },
      "text/plain": [
       "Downloading:   0%|          | 0.00/455k [00:00<?, ?B/s]"
      ]
     },
     "metadata": {},
     "output_type": "display_data"
    },
    {
     "data": {
      "application/vnd.jupyter.widget-view+json": {
       "model_id": "b40e0f0118cc4664b743cc47cd2cd23a",
       "version_major": 2,
       "version_minor": 0
      },
      "text/plain": [
       "Downloading:   0%|          | 0.00/256M [00:00<?, ?B/s]"
      ]
     },
     "metadata": {},
     "output_type": "display_data"
    }
   ],
   "source": [
    "\n",
    "from flair.embeddings import TransformerDocumentEmbeddings\n",
    "from flair.trainers import ModelTrainer\n",
    "document_embeddings = TransformerDocumentEmbeddings('distilbert-base-uncased', fine_tune=True)\n",
    "# from flair.embeddings import WordEmbeddings, FlairEmbeddings, DocumentRNNEmbeddings\n",
    "# word_embeddings = [WordEmbeddings('glove'),FlairEmbeddings('news-forward-fast')]\n",
    "# doc_embeddings = DocumentRNNEmbeddings(word_embeddings,hidden_size = 250)"
   ]
  },
  {
   "cell_type": "code",
   "execution_count": 19,
   "id": "44552766",
   "metadata": {
    "execution": {
     "iopub.execute_input": "2022-06-25T23:27:30.493199Z",
     "iopub.status.busy": "2022-06-25T23:27:30.492863Z",
     "iopub.status.idle": "2022-06-25T23:48:57.773308Z",
     "shell.execute_reply": "2022-06-25T23:48:57.772014Z"
    },
    "papermill": {
     "duration": 1287.340565,
     "end_time": "2022-06-25T23:48:57.776461",
     "exception": false,
     "start_time": "2022-06-25T23:27:30.435896",
     "status": "completed"
    },
    "tags": []
   },
   "outputs": [
    {
     "name": "stdout",
     "output_type": "stream",
     "text": [
      "2022-06-25 23:27:30,500 ----------------------------------------------------------------------------------------------------\n",
      "2022-06-25 23:27:30,502 Model: \"TextClassifier(\n",
      "  (decoder): Linear(in_features=768, out_features=3, bias=True)\n",
      "  (dropout): Dropout(p=0.0, inplace=False)\n",
      "  (locked_dropout): LockedDropout(p=0.0)\n",
      "  (word_dropout): WordDropout(p=0.0)\n",
      "  (loss_function): CrossEntropyLoss()\n",
      "  (document_embeddings): TransformerDocumentEmbeddings(\n",
      "    (model): DistilBertModel(\n",
      "      (embeddings): Embeddings(\n",
      "        (word_embeddings): Embedding(30522, 768, padding_idx=0)\n",
      "        (position_embeddings): Embedding(512, 768)\n",
      "        (LayerNorm): LayerNorm((768,), eps=1e-12, elementwise_affine=True)\n",
      "        (dropout): Dropout(p=0.1, inplace=False)\n",
      "      )\n",
      "      (transformer): Transformer(\n",
      "        (layer): ModuleList(\n",
      "          (0): TransformerBlock(\n",
      "            (attention): MultiHeadSelfAttention(\n",
      "              (dropout): Dropout(p=0.1, inplace=False)\n",
      "              (q_lin): Linear(in_features=768, out_features=768, bias=True)\n",
      "              (k_lin): Linear(in_features=768, out_features=768, bias=True)\n",
      "              (v_lin): Linear(in_features=768, out_features=768, bias=True)\n",
      "              (out_lin): Linear(in_features=768, out_features=768, bias=True)\n",
      "            )\n",
      "            (sa_layer_norm): LayerNorm((768,), eps=1e-12, elementwise_affine=True)\n",
      "            (ffn): FFN(\n",
      "              (dropout): Dropout(p=0.1, inplace=False)\n",
      "              (lin1): Linear(in_features=768, out_features=3072, bias=True)\n",
      "              (lin2): Linear(in_features=3072, out_features=768, bias=True)\n",
      "              (activation): GELUActivation()\n",
      "            )\n",
      "            (output_layer_norm): LayerNorm((768,), eps=1e-12, elementwise_affine=True)\n",
      "          )\n",
      "          (1): TransformerBlock(\n",
      "            (attention): MultiHeadSelfAttention(\n",
      "              (dropout): Dropout(p=0.1, inplace=False)\n",
      "              (q_lin): Linear(in_features=768, out_features=768, bias=True)\n",
      "              (k_lin): Linear(in_features=768, out_features=768, bias=True)\n",
      "              (v_lin): Linear(in_features=768, out_features=768, bias=True)\n",
      "              (out_lin): Linear(in_features=768, out_features=768, bias=True)\n",
      "            )\n",
      "            (sa_layer_norm): LayerNorm((768,), eps=1e-12, elementwise_affine=True)\n",
      "            (ffn): FFN(\n",
      "              (dropout): Dropout(p=0.1, inplace=False)\n",
      "              (lin1): Linear(in_features=768, out_features=3072, bias=True)\n",
      "              (lin2): Linear(in_features=3072, out_features=768, bias=True)\n",
      "              (activation): GELUActivation()\n",
      "            )\n",
      "            (output_layer_norm): LayerNorm((768,), eps=1e-12, elementwise_affine=True)\n",
      "          )\n",
      "          (2): TransformerBlock(\n",
      "            (attention): MultiHeadSelfAttention(\n",
      "              (dropout): Dropout(p=0.1, inplace=False)\n",
      "              (q_lin): Linear(in_features=768, out_features=768, bias=True)\n",
      "              (k_lin): Linear(in_features=768, out_features=768, bias=True)\n",
      "              (v_lin): Linear(in_features=768, out_features=768, bias=True)\n",
      "              (out_lin): Linear(in_features=768, out_features=768, bias=True)\n",
      "            )\n",
      "            (sa_layer_norm): LayerNorm((768,), eps=1e-12, elementwise_affine=True)\n",
      "            (ffn): FFN(\n",
      "              (dropout): Dropout(p=0.1, inplace=False)\n",
      "              (lin1): Linear(in_features=768, out_features=3072, bias=True)\n",
      "              (lin2): Linear(in_features=3072, out_features=768, bias=True)\n",
      "              (activation): GELUActivation()\n",
      "            )\n",
      "            (output_layer_norm): LayerNorm((768,), eps=1e-12, elementwise_affine=True)\n",
      "          )\n",
      "          (3): TransformerBlock(\n",
      "            (attention): MultiHeadSelfAttention(\n",
      "              (dropout): Dropout(p=0.1, inplace=False)\n",
      "              (q_lin): Linear(in_features=768, out_features=768, bias=True)\n",
      "              (k_lin): Linear(in_features=768, out_features=768, bias=True)\n",
      "              (v_lin): Linear(in_features=768, out_features=768, bias=True)\n",
      "              (out_lin): Linear(in_features=768, out_features=768, bias=True)\n",
      "            )\n",
      "            (sa_layer_norm): LayerNorm((768,), eps=1e-12, elementwise_affine=True)\n",
      "            (ffn): FFN(\n",
      "              (dropout): Dropout(p=0.1, inplace=False)\n",
      "              (lin1): Linear(in_features=768, out_features=3072, bias=True)\n",
      "              (lin2): Linear(in_features=3072, out_features=768, bias=True)\n",
      "              (activation): GELUActivation()\n",
      "            )\n",
      "            (output_layer_norm): LayerNorm((768,), eps=1e-12, elementwise_affine=True)\n",
      "          )\n",
      "          (4): TransformerBlock(\n",
      "            (attention): MultiHeadSelfAttention(\n",
      "              (dropout): Dropout(p=0.1, inplace=False)\n",
      "              (q_lin): Linear(in_features=768, out_features=768, bias=True)\n",
      "              (k_lin): Linear(in_features=768, out_features=768, bias=True)\n",
      "              (v_lin): Linear(in_features=768, out_features=768, bias=True)\n",
      "              (out_lin): Linear(in_features=768, out_features=768, bias=True)\n",
      "            )\n",
      "            (sa_layer_norm): LayerNorm((768,), eps=1e-12, elementwise_affine=True)\n",
      "            (ffn): FFN(\n",
      "              (dropout): Dropout(p=0.1, inplace=False)\n",
      "              (lin1): Linear(in_features=768, out_features=3072, bias=True)\n",
      "              (lin2): Linear(in_features=3072, out_features=768, bias=True)\n",
      "              (activation): GELUActivation()\n",
      "            )\n",
      "            (output_layer_norm): LayerNorm((768,), eps=1e-12, elementwise_affine=True)\n",
      "          )\n",
      "          (5): TransformerBlock(\n",
      "            (attention): MultiHeadSelfAttention(\n",
      "              (dropout): Dropout(p=0.1, inplace=False)\n",
      "              (q_lin): Linear(in_features=768, out_features=768, bias=True)\n",
      "              (k_lin): Linear(in_features=768, out_features=768, bias=True)\n",
      "              (v_lin): Linear(in_features=768, out_features=768, bias=True)\n",
      "              (out_lin): Linear(in_features=768, out_features=768, bias=True)\n",
      "            )\n",
      "            (sa_layer_norm): LayerNorm((768,), eps=1e-12, elementwise_affine=True)\n",
      "            (ffn): FFN(\n",
      "              (dropout): Dropout(p=0.1, inplace=False)\n",
      "              (lin1): Linear(in_features=768, out_features=3072, bias=True)\n",
      "              (lin2): Linear(in_features=3072, out_features=768, bias=True)\n",
      "              (activation): GELUActivation()\n",
      "            )\n",
      "            (output_layer_norm): LayerNorm((768,), eps=1e-12, elementwise_affine=True)\n",
      "          )\n",
      "        )\n",
      "      )\n",
      "    )\n",
      "  )\n",
      "  (weights): None\n",
      "  (weight_tensor) None\n",
      ")\"\n",
      "2022-06-25 23:27:30,503 ----------------------------------------------------------------------------------------------------\n",
      "2022-06-25 23:27:30,504 Corpus: \"Corpus: 4561 train + 507 dev + 1267 test sentences\"\n",
      "2022-06-25 23:27:30,506 ----------------------------------------------------------------------------------------------------\n",
      "2022-06-25 23:27:30,506 Parameters:\n",
      "2022-06-25 23:27:30,507  - learning_rate: \"0.000050\"\n",
      "2022-06-25 23:27:30,508  - mini_batch_size: \"32\"\n",
      "2022-06-25 23:27:30,510  - patience: \"3\"\n",
      "2022-06-25 23:27:30,515  - anneal_factor: \"0.5\"\n",
      "2022-06-25 23:27:30,517  - max_epochs: \"4\"\n",
      "2022-06-25 23:27:30,518  - shuffle: \"True\"\n",
      "2022-06-25 23:27:30,519  - train_with_dev: \"False\"\n",
      "2022-06-25 23:27:30,520  - batch_growth_annealing: \"False\"\n",
      "2022-06-25 23:27:30,521 ----------------------------------------------------------------------------------------------------\n",
      "2022-06-25 23:27:30,522 Model training base path: \"/news-classification\"\n",
      "2022-06-25 23:27:30,523 ----------------------------------------------------------------------------------------------------\n",
      "2022-06-25 23:27:30,524 Device: cuda:0\n",
      "2022-06-25 23:27:30,524 ----------------------------------------------------------------------------------------------------\n",
      "2022-06-25 23:27:30,525 Embeddings storage mode: none\n",
      "2022-06-25 23:27:30,526 ----------------------------------------------------------------------------------------------------\n",
      "2022-06-25 23:27:57,843 epoch 1 - iter 14/143 - loss 0.03692490 - samples/sec: 28.78 - lr: 0.000012\n",
      "2022-06-25 23:28:23,749 epoch 1 - iter 28/143 - loss 0.02536335 - samples/sec: 30.45 - lr: 0.000025\n",
      "2022-06-25 23:28:49,150 epoch 1 - iter 42/143 - loss 0.01998749 - samples/sec: 30.55 - lr: 0.000037\n",
      "2022-06-25 23:29:16,279 epoch 1 - iter 56/143 - loss 0.01666949 - samples/sec: 29.81 - lr: 0.000049\n",
      "2022-06-25 23:29:43,260 epoch 1 - iter 70/143 - loss 0.01448367 - samples/sec: 29.93 - lr: 0.000049\n",
      "2022-06-25 23:30:09,313 epoch 1 - iter 84/143 - loss 0.01308497 - samples/sec: 29.90 - lr: 0.000047\n",
      "2022-06-25 23:30:36,467 epoch 1 - iter 98/143 - loss 0.01184349 - samples/sec: 30.09 - lr: 0.000046\n",
      "2022-06-25 23:31:03,796 epoch 1 - iter 112/143 - loss 0.01067566 - samples/sec: 29.48 - lr: 0.000045\n",
      "2022-06-25 23:31:28,873 epoch 1 - iter 126/143 - loss 0.01024665 - samples/sec: 30.61 - lr: 0.000043\n",
      "2022-06-25 23:31:55,302 epoch 1 - iter 140/143 - loss 0.00958594 - samples/sec: 30.19 - lr: 0.000042\n",
      "2022-06-25 23:32:00,189 ----------------------------------------------------------------------------------------------------\n",
      "2022-06-25 23:32:00,190 EPOCH 1 done: loss 0.0095 - lr 0.000042\n"
     ]
    },
    {
     "name": "stderr",
     "output_type": "stream",
     "text": [
      "100%|██████████| 16/16 [00:24<00:00,  1.55s/it]"
     ]
    },
    {
     "name": "stdout",
     "output_type": "stream",
     "text": [
      "2022-06-25 23:32:25,044 Evaluating as a multi-label problem: False\n",
      "2022-06-25 23:32:25,059 DEV : loss 0.0025516794994473457 - f1-score (micro avg)  0.9744\n"
     ]
    },
    {
     "name": "stderr",
     "output_type": "stream",
     "text": [
      "\n"
     ]
    },
    {
     "name": "stdout",
     "output_type": "stream",
     "text": [
      "2022-06-25 23:32:38,623 BAD EPOCHS (no improvement): 4\n",
      "2022-06-25 23:32:38,624 ----------------------------------------------------------------------------------------------------\n",
      "2022-06-25 23:33:05,690 epoch 2 - iter 14/143 - loss 0.00155921 - samples/sec: 29.92 - lr: 0.000040\n",
      "2022-06-25 23:33:32,024 epoch 2 - iter 28/143 - loss 0.00261120 - samples/sec: 29.96 - lr: 0.000039\n",
      "2022-06-25 23:33:58,583 epoch 2 - iter 42/143 - loss 0.00197829 - samples/sec: 29.80 - lr: 0.000038\n",
      "2022-06-25 23:34:24,933 epoch 2 - iter 56/143 - loss 0.00196620 - samples/sec: 29.80 - lr: 0.000036\n",
      "2022-06-25 23:34:50,671 epoch 2 - iter 70/143 - loss 0.00182051 - samples/sec: 30.49 - lr: 0.000035\n",
      "2022-06-25 23:35:16,584 epoch 2 - iter 84/143 - loss 0.00182274 - samples/sec: 30.02 - lr: 0.000034\n",
      "2022-06-25 23:35:43,393 epoch 2 - iter 98/143 - loss 0.00189405 - samples/sec: 30.25 - lr: 0.000032\n",
      "2022-06-25 23:36:09,574 epoch 2 - iter 112/143 - loss 0.00194720 - samples/sec: 30.02 - lr: 0.000031\n",
      "2022-06-25 23:36:34,763 epoch 2 - iter 126/143 - loss 0.00196725 - samples/sec: 30.64 - lr: 0.000029\n",
      "2022-06-25 23:37:01,379 epoch 2 - iter 140/143 - loss 0.00200573 - samples/sec: 30.08 - lr: 0.000028\n",
      "2022-06-25 23:37:06,069 ----------------------------------------------------------------------------------------------------\n",
      "2022-06-25 23:37:06,073 EPOCH 2 done: loss 0.0020 - lr 0.000028\n"
     ]
    },
    {
     "name": "stderr",
     "output_type": "stream",
     "text": [
      "100%|██████████| 16/16 [00:24<00:00,  1.56s/it]"
     ]
    },
    {
     "name": "stdout",
     "output_type": "stream",
     "text": [
      "2022-06-25 23:37:31,059 Evaluating as a multi-label problem: False\n",
      "2022-06-25 23:37:31,072 DEV : loss 0.002700712298974395 - f1-score (micro avg)  0.9783\n"
     ]
    },
    {
     "name": "stderr",
     "output_type": "stream",
     "text": [
      "\n"
     ]
    },
    {
     "name": "stdout",
     "output_type": "stream",
     "text": [
      "2022-06-25 23:37:44,865 BAD EPOCHS (no improvement): 4\n",
      "2022-06-25 23:37:44,866 ----------------------------------------------------------------------------------------------------\n",
      "2022-06-25 23:38:12,179 epoch 3 - iter 14/143 - loss 0.00053102 - samples/sec: 29.95 - lr: 0.000026\n",
      "2022-06-25 23:38:40,401 epoch 3 - iter 28/143 - loss 0.00037975 - samples/sec: 29.24 - lr: 0.000025\n",
      "2022-06-25 23:39:07,429 epoch 3 - iter 42/143 - loss 0.00037520 - samples/sec: 29.75 - lr: 0.000024\n",
      "2022-06-25 23:39:33,156 epoch 3 - iter 56/143 - loss 0.00032264 - samples/sec: 30.00 - lr: 0.000022\n",
      "2022-06-25 23:40:00,535 epoch 3 - iter 70/143 - loss 0.00031607 - samples/sec: 29.67 - lr: 0.000021\n",
      "2022-06-25 23:40:25,803 epoch 3 - iter 84/143 - loss 0.00028050 - samples/sec: 30.90 - lr: 0.000020\n",
      "2022-06-25 23:40:51,690 epoch 3 - iter 98/143 - loss 0.00026128 - samples/sec: 30.43 - lr: 0.000018\n",
      "2022-06-25 23:41:17,530 epoch 3 - iter 112/143 - loss 0.00027351 - samples/sec: 30.16 - lr: 0.000017\n",
      "2022-06-25 23:41:44,572 epoch 3 - iter 126/143 - loss 0.00029767 - samples/sec: 29.68 - lr: 0.000016\n",
      "2022-06-25 23:42:08,950 epoch 3 - iter 140/143 - loss 0.00029317 - samples/sec: 30.88 - lr: 0.000014\n",
      "2022-06-25 23:42:14,212 ----------------------------------------------------------------------------------------------------\n",
      "2022-06-25 23:42:14,215 EPOCH 3 done: loss 0.0003 - lr 0.000014\n"
     ]
    },
    {
     "name": "stderr",
     "output_type": "stream",
     "text": [
      "100%|██████████| 16/16 [00:24<00:00,  1.53s/it]"
     ]
    },
    {
     "name": "stdout",
     "output_type": "stream",
     "text": [
      "2022-06-25 23:42:38,674 Evaluating as a multi-label problem: False\n",
      "2022-06-25 23:42:38,687 DEV : loss 0.0024042832665145397 - f1-score (micro avg)  0.9822\n"
     ]
    },
    {
     "name": "stderr",
     "output_type": "stream",
     "text": [
      "\n"
     ]
    },
    {
     "name": "stdout",
     "output_type": "stream",
     "text": [
      "2022-06-25 23:42:52,242 BAD EPOCHS (no improvement): 4\n",
      "2022-06-25 23:42:52,243 ----------------------------------------------------------------------------------------------------\n",
      "2022-06-25 23:43:18,459 epoch 4 - iter 14/143 - loss 0.00034816 - samples/sec: 30.67 - lr: 0.000013\n",
      "2022-06-25 23:43:45,805 epoch 4 - iter 28/143 - loss 0.00020935 - samples/sec: 29.92 - lr: 0.000011\n",
      "2022-06-25 23:44:11,424 epoch 4 - iter 42/143 - loss 0.00015908 - samples/sec: 30.62 - lr: 0.000010\n",
      "2022-06-25 23:44:37,563 epoch 4 - iter 56/143 - loss 0.00015937 - samples/sec: 29.83 - lr: 0.000009\n",
      "2022-06-25 23:45:04,253 epoch 4 - iter 70/143 - loss 0.00014140 - samples/sec: 29.55 - lr: 0.000007\n",
      "2022-06-25 23:45:31,152 epoch 4 - iter 84/143 - loss 0.00012534 - samples/sec: 29.24 - lr: 0.000006\n",
      "2022-06-25 23:45:57,911 epoch 4 - iter 98/143 - loss 0.00011120 - samples/sec: 29.95 - lr: 0.000005\n",
      "2022-06-25 23:46:23,974 epoch 4 - iter 112/143 - loss 0.00010579 - samples/sec: 30.27 - lr: 0.000003\n",
      "2022-06-25 23:46:50,493 epoch 4 - iter 126/143 - loss 0.00010056 - samples/sec: 29.77 - lr: 0.000002\n",
      "2022-06-25 23:47:17,649 epoch 4 - iter 140/143 - loss 0.00009425 - samples/sec: 29.88 - lr: 0.000000\n",
      "2022-06-25 23:47:21,959 ----------------------------------------------------------------------------------------------------\n",
      "2022-06-25 23:47:21,962 EPOCH 4 done: loss 0.0001 - lr 0.000000\n"
     ]
    },
    {
     "name": "stderr",
     "output_type": "stream",
     "text": [
      "100%|██████████| 16/16 [00:24<00:00,  1.56s/it]"
     ]
    },
    {
     "name": "stdout",
     "output_type": "stream",
     "text": [
      "2022-06-25 23:47:46,884 Evaluating as a multi-label problem: False\n",
      "2022-06-25 23:47:46,896 DEV : loss 0.0022532260045409203 - f1-score (micro avg)  0.9803\n"
     ]
    },
    {
     "name": "stderr",
     "output_type": "stream",
     "text": [
      "\n"
     ]
    },
    {
     "name": "stdout",
     "output_type": "stream",
     "text": [
      "2022-06-25 23:48:00,187 BAD EPOCHS (no improvement): 4\n",
      "2022-06-25 23:48:00,796 ----------------------------------------------------------------------------------------------------\n",
      "2022-06-25 23:48:00,798 Testing using last state of model ...\n"
     ]
    },
    {
     "name": "stderr",
     "output_type": "stream",
     "text": [
      "100%|██████████| 40/40 [00:56<00:00,  1.42s/it]"
     ]
    },
    {
     "name": "stdout",
     "output_type": "stream",
     "text": [
      "2022-06-25 23:48:57,743 Evaluating as a multi-label problem: False\n",
      "2022-06-25 23:48:57,761 0.9724\t0.9724\t0.9724\t0.9724\n",
      "2022-06-25 23:48:57,762 \n",
      "Results:\n",
      "- F-score (micro) 0.9724\n",
      "- F-score (macro) 0.9724\n",
      "- Accuracy 0.9724\n",
      "\n",
      "By class:\n",
      "              precision    recall  f1-score   support\n",
      "\n",
      "        REAL     0.9664    0.9799    0.9731       646\n",
      "        FAKE     0.9788    0.9646    0.9716       621\n",
      "\n",
      "    accuracy                         0.9724      1267\n",
      "   macro avg     0.9726    0.9722    0.9724      1267\n",
      "weighted avg     0.9725    0.9724    0.9724      1267\n",
      "\n",
      "2022-06-25 23:48:57,763 ----------------------------------------------------------------------------------------------------\n"
     ]
    },
    {
     "name": "stderr",
     "output_type": "stream",
     "text": [
      "\n"
     ]
    },
    {
     "data": {
      "text/plain": [
       "{'test_score': 0.9723756906077348,\n",
       " 'dev_score_history': [0.9743589743589743,\n",
       "  0.9783037475345168,\n",
       "  0.9822485207100592,\n",
       "  0.980276134122288],\n",
       " 'train_loss_history': [0.00951446678466577,\n",
       "  0.001984962150532625,\n",
       "  0.0002935932305799926,\n",
       "  9.276666773469731e-05],\n",
       " 'dev_loss_history': [0.0025516794994473457,\n",
       "  0.002700712298974395,\n",
       "  0.0024042832665145397,\n",
       "  0.0022532260045409203]}"
      ]
     },
     "execution_count": 19,
     "metadata": {},
     "output_type": "execute_result"
    }
   ],
   "source": [
    "\n",
    "classifier = TextClassifier(document_embeddings, label_dictionary=label_dict, label_type=label_type)\n",
    "trainer = ModelTrainer(classifier, corpus)\n",
    "\n",
    "trainer.fine_tune('/news-classification',\n",
    "                  learning_rate=5.0e-5,\n",
    "                  mini_batch_size=32,\n",
    "                  max_epochs=4,\n",
    "                  )"
   ]
  },
  {
   "cell_type": "code",
   "execution_count": 20,
   "id": "7b902e93",
   "metadata": {
    "execution": {
     "iopub.execute_input": "2022-06-25T23:48:57.915051Z",
     "iopub.status.busy": "2022-06-25T23:48:57.914368Z",
     "iopub.status.idle": "2022-06-25T23:48:59.483513Z",
     "shell.execute_reply": "2022-06-25T23:48:59.482526Z"
    },
    "papermill": {
     "duration": 1.640545,
     "end_time": "2022-06-25T23:48:59.485960",
     "exception": false,
     "start_time": "2022-06-25T23:48:57.845415",
     "status": "completed"
    },
    "tags": []
   },
   "outputs": [
    {
     "name": "stdout",
     "output_type": "stream",
     "text": [
      "2022-06-25 23:48:57,916 loading file /news-classification/final-model.pt\n"
     ]
    }
   ],
   "source": [
    "classifier = TextClassifier.load('/news-classification/final-model.pt')"
   ]
  },
  {
   "cell_type": "code",
   "execution_count": 21,
   "id": "893a88a2",
   "metadata": {
    "execution": {
     "iopub.execute_input": "2022-06-25T23:48:59.627663Z",
     "iopub.status.busy": "2022-06-25T23:48:59.627324Z",
     "iopub.status.idle": "2022-06-25T23:48:59.660014Z",
     "shell.execute_reply": "2022-06-25T23:48:59.659118Z"
    },
    "papermill": {
     "duration": 0.104798,
     "end_time": "2022-06-25T23:48:59.662149",
     "exception": false,
     "start_time": "2022-06-25T23:48:59.557351",
     "status": "completed"
    },
    "tags": []
   },
   "outputs": [],
   "source": [
    "sentence = Sentence(df.title_text[4])\n",
    "classifier.predict(sentence)"
   ]
  },
  {
   "cell_type": "code",
   "execution_count": 22,
   "id": "41009fff",
   "metadata": {
    "execution": {
     "iopub.execute_input": "2022-06-25T23:48:59.805203Z",
     "iopub.status.busy": "2022-06-25T23:48:59.804833Z",
     "iopub.status.idle": "2022-06-25T23:48:59.810738Z",
     "shell.execute_reply": "2022-06-25T23:48:59.809858Z"
    },
    "papermill": {
     "duration": 0.078978,
     "end_time": "2022-06-25T23:48:59.812575",
     "exception": false,
     "start_time": "2022-06-25T23:48:59.733597",
     "status": "completed"
    },
    "tags": []
   },
   "outputs": [
    {
     "data": {
      "text/plain": [
       "Sentence: \"The Battle of New York : Why This Primary Matters It 's primary day in New York and front-runners Hillary Clinton and Donald Trump are leading in the polls . Trump is now vowing to win enough delegates to clinch the Republican nomination and prevent a contested convention . But Sens.Ted Cruz , R-Texas , Bernie Sanders , D-Vt. , and Ohio Gov . John Kasich and are n't giving up just yet . A big win in New York could tip the scales for both the Republican and Democratic front-runners in this year 's race for the White House . Clinton and Trump have each suffered losses in recent contests , shifting the momentum to their rivals . \" We have won eight out of the last nine caucuses and primaries ! Cheer ! \" Sanders recently told supporters . While wins in New York for Trump and Clinton are expected , the margins of those victories are also important . Trump needs to capture more than 50 percent of the vote statewide if he wants to be positioned to win all of the state 's 95 GOP delegates . That would put him one step closer to avoiding a contested convention . \" We 've got to vote and you know Cruz is way , way down in the polls ,\" Trump urged supporters . Meanwhile , Sanders is hoping for a close race in the Empire State . A loss by 10 points means he 'll need to win 80 percent of the remaining delegates to clinch the nomination . Despite a predicted loss in New York , Cruz has n't lost momentum . He 's hoping to sweep up more delegates this weekend while he 's talking about how he can win in November . \" Because if I 'm the nominee , we win the General Election ,\" Cruz promised his supporters . \" We 're beating Hillary in the key swing states , we 're beating Hillary with Independents , we 're beating Hillary with young people . \" For now , Cruz , Kasich , and Sanders have all moved on from New York to other states . Trump and Clinton are the only two staying in their home state to watch the results come in .\" → REAL (1.0)"
      ]
     },
     "execution_count": 22,
     "metadata": {},
     "output_type": "execute_result"
    }
   ],
   "source": [
    "sentence"
   ]
  },
  {
   "cell_type": "code",
   "execution_count": null,
   "id": "da769f15",
   "metadata": {
    "papermill": {
     "duration": 0.069498,
     "end_time": "2022-06-25T23:48:59.950662",
     "exception": false,
     "start_time": "2022-06-25T23:48:59.881164",
     "status": "completed"
    },
    "tags": []
   },
   "outputs": [],
   "source": []
  },
  {
   "cell_type": "code",
   "execution_count": null,
   "id": "a29901f0",
   "metadata": {
    "papermill": {
     "duration": 0.068572,
     "end_time": "2022-06-25T23:49:00.089589",
     "exception": false,
     "start_time": "2022-06-25T23:49:00.021017",
     "status": "completed"
    },
    "tags": []
   },
   "outputs": [],
   "source": []
  }
 ],
 "metadata": {
  "kernelspec": {
   "display_name": "Python 3",
   "language": "python",
   "name": "python3"
  },
  "language_info": {
   "codemirror_mode": {
    "name": "ipython",
    "version": 3
   },
   "file_extension": ".py",
   "mimetype": "text/x-python",
   "name": "python",
   "nbconvert_exporter": "python",
   "pygments_lexer": "ipython3",
   "version": "3.7.12"
  },
  "papermill": {
   "default_parameters": {},
   "duration": 1498.064515,
   "end_time": "2022-06-25T23:49:03.013618",
   "environment_variables": {},
   "exception": null,
   "input_path": "__notebook__.ipynb",
   "output_path": "__notebook__.ipynb",
   "parameters": {},
   "start_time": "2022-06-25T23:24:04.949103",
   "version": "2.3.4"
  },
  "widgets": {
   "application/vnd.jupyter.widget-state+json": {
    "state": {
     "008af6e6539742e5b2507c04d1445eaf": {
      "model_module": "@jupyter-widgets/controls",
      "model_module_version": "1.5.0",
      "model_name": "DescriptionStyleModel",
      "state": {
       "_model_module": "@jupyter-widgets/controls",
       "_model_module_version": "1.5.0",
       "_model_name": "DescriptionStyleModel",
       "_view_count": null,
       "_view_module": "@jupyter-widgets/base",
       "_view_module_version": "1.2.0",
       "_view_name": "StyleView",
       "description_width": ""
      }
     },
     "0432db70cc8044feb1bf2c6ba801e70b": {
      "model_module": "@jupyter-widgets/base",
      "model_module_version": "1.2.0",
      "model_name": "LayoutModel",
      "state": {
       "_model_module": "@jupyter-widgets/base",
       "_model_module_version": "1.2.0",
       "_model_name": "LayoutModel",
       "_view_count": null,
       "_view_module": "@jupyter-widgets/base",
       "_view_module_version": "1.2.0",
       "_view_name": "LayoutView",
       "align_content": null,
       "align_items": null,
       "align_self": null,
       "border": null,
       "bottom": null,
       "display": null,
       "flex": null,
       "flex_flow": null,
       "grid_area": null,
       "grid_auto_columns": null,
       "grid_auto_flow": null,
       "grid_auto_rows": null,
       "grid_column": null,
       "grid_gap": null,
       "grid_row": null,
       "grid_template_areas": null,
       "grid_template_columns": null,
       "grid_template_rows": null,
       "height": null,
       "justify_content": null,
       "justify_items": null,
       "left": null,
       "margin": null,
       "max_height": null,
       "max_width": null,
       "min_height": null,
       "min_width": null,
       "object_fit": null,
       "object_position": null,
       "order": null,
       "overflow": null,
       "overflow_x": null,
       "overflow_y": null,
       "padding": null,
       "right": null,
       "top": null,
       "visibility": null,
       "width": null
      }
     },
     "0f385f5f66aa43e1bb8a823bb9e68e6c": {
      "model_module": "@jupyter-widgets/base",
      "model_module_version": "1.2.0",
      "model_name": "LayoutModel",
      "state": {
       "_model_module": "@jupyter-widgets/base",
       "_model_module_version": "1.2.0",
       "_model_name": "LayoutModel",
       "_view_count": null,
       "_view_module": "@jupyter-widgets/base",
       "_view_module_version": "1.2.0",
       "_view_name": "LayoutView",
       "align_content": null,
       "align_items": null,
       "align_self": null,
       "border": null,
       "bottom": null,
       "display": null,
       "flex": null,
       "flex_flow": null,
       "grid_area": null,
       "grid_auto_columns": null,
       "grid_auto_flow": null,
       "grid_auto_rows": null,
       "grid_column": null,
       "grid_gap": null,
       "grid_row": null,
       "grid_template_areas": null,
       "grid_template_columns": null,
       "grid_template_rows": null,
       "height": null,
       "justify_content": null,
       "justify_items": null,
       "left": null,
       "margin": null,
       "max_height": null,
       "max_width": null,
       "min_height": null,
       "min_width": null,
       "object_fit": null,
       "object_position": null,
       "order": null,
       "overflow": null,
       "overflow_x": null,
       "overflow_y": null,
       "padding": null,
       "right": null,
       "top": null,
       "visibility": null,
       "width": null
      }
     },
     "1288b71ce20443efa7b59deb9b0963ce": {
      "model_module": "@jupyter-widgets/controls",
      "model_module_version": "1.5.0",
      "model_name": "DescriptionStyleModel",
      "state": {
       "_model_module": "@jupyter-widgets/controls",
       "_model_module_version": "1.5.0",
       "_model_name": "DescriptionStyleModel",
       "_view_count": null,
       "_view_module": "@jupyter-widgets/base",
       "_view_module_version": "1.2.0",
       "_view_name": "StyleView",
       "description_width": ""
      }
     },
     "13c5789e1a144aedb9efd404c46143af": {
      "model_module": "@jupyter-widgets/base",
      "model_module_version": "1.2.0",
      "model_name": "LayoutModel",
      "state": {
       "_model_module": "@jupyter-widgets/base",
       "_model_module_version": "1.2.0",
       "_model_name": "LayoutModel",
       "_view_count": null,
       "_view_module": "@jupyter-widgets/base",
       "_view_module_version": "1.2.0",
       "_view_name": "LayoutView",
       "align_content": null,
       "align_items": null,
       "align_self": null,
       "border": null,
       "bottom": null,
       "display": null,
       "flex": null,
       "flex_flow": null,
       "grid_area": null,
       "grid_auto_columns": null,
       "grid_auto_flow": null,
       "grid_auto_rows": null,
       "grid_column": null,
       "grid_gap": null,
       "grid_row": null,
       "grid_template_areas": null,
       "grid_template_columns": null,
       "grid_template_rows": null,
       "height": null,
       "justify_content": null,
       "justify_items": null,
       "left": null,
       "margin": null,
       "max_height": null,
       "max_width": null,
       "min_height": null,
       "min_width": null,
       "object_fit": null,
       "object_position": null,
       "order": null,
       "overflow": null,
       "overflow_x": null,
       "overflow_y": null,
       "padding": null,
       "right": null,
       "top": null,
       "visibility": null,
       "width": null
      }
     },
     "1f2334efaee24e26b9fcedd52097bca8": {
      "model_module": "@jupyter-widgets/base",
      "model_module_version": "1.2.0",
      "model_name": "LayoutModel",
      "state": {
       "_model_module": "@jupyter-widgets/base",
       "_model_module_version": "1.2.0",
       "_model_name": "LayoutModel",
       "_view_count": null,
       "_view_module": "@jupyter-widgets/base",
       "_view_module_version": "1.2.0",
       "_view_name": "LayoutView",
       "align_content": null,
       "align_items": null,
       "align_self": null,
       "border": null,
       "bottom": null,
       "display": null,
       "flex": null,
       "flex_flow": null,
       "grid_area": null,
       "grid_auto_columns": null,
       "grid_auto_flow": null,
       "grid_auto_rows": null,
       "grid_column": null,
       "grid_gap": null,
       "grid_row": null,
       "grid_template_areas": null,
       "grid_template_columns": null,
       "grid_template_rows": null,
       "height": null,
       "justify_content": null,
       "justify_items": null,
       "left": null,
       "margin": null,
       "max_height": null,
       "max_width": null,
       "min_height": null,
       "min_width": null,
       "object_fit": null,
       "object_position": null,
       "order": null,
       "overflow": null,
       "overflow_x": null,
       "overflow_y": null,
       "padding": null,
       "right": null,
       "top": null,
       "visibility": null,
       "width": null
      }
     },
     "23930da348e14b498c2da50e5798ac91": {
      "model_module": "@jupyter-widgets/controls",
      "model_module_version": "1.5.0",
      "model_name": "HTMLModel",
      "state": {
       "_dom_classes": [],
       "_model_module": "@jupyter-widgets/controls",
       "_model_module_version": "1.5.0",
       "_model_name": "HTMLModel",
       "_view_count": null,
       "_view_module": "@jupyter-widgets/controls",
       "_view_module_version": "1.5.0",
       "_view_name": "HTMLView",
       "description": "",
       "description_tooltip": null,
       "layout": "IPY_MODEL_59d5455d5c98489486b5a20d37ab59ce",
       "placeholder": "​",
       "style": "IPY_MODEL_71c41da7d9a245f6b75cfd319fbd0cad",
       "value": "Downloading: 100%"
      }
     },
     "29160cb809d04e01b36661f64520c0d8": {
      "model_module": "@jupyter-widgets/controls",
      "model_module_version": "1.5.0",
      "model_name": "HTMLModel",
      "state": {
       "_dom_classes": [],
       "_model_module": "@jupyter-widgets/controls",
       "_model_module_version": "1.5.0",
       "_model_name": "HTMLModel",
       "_view_count": null,
       "_view_module": "@jupyter-widgets/controls",
       "_view_module_version": "1.5.0",
       "_view_name": "HTMLView",
       "description": "",
       "description_tooltip": null,
       "layout": "IPY_MODEL_7d713fc23a6a4fc0a9a2ce42c6c3663c",
       "placeholder": "​",
       "style": "IPY_MODEL_008af6e6539742e5b2507c04d1445eaf",
       "value": "Downloading: 100%"
      }
     },
     "3610fc71419a4519809b49d73f62a172": {
      "model_module": "@jupyter-widgets/controls",
      "model_module_version": "1.5.0",
      "model_name": "DescriptionStyleModel",
      "state": {
       "_model_module": "@jupyter-widgets/controls",
       "_model_module_version": "1.5.0",
       "_model_name": "DescriptionStyleModel",
       "_view_count": null,
       "_view_module": "@jupyter-widgets/base",
       "_view_module_version": "1.2.0",
       "_view_name": "StyleView",
       "description_width": ""
      }
     },
     "398a6680a9d24e698443512e2f9aa015": {
      "model_module": "@jupyter-widgets/controls",
      "model_module_version": "1.5.0",
      "model_name": "FloatProgressModel",
      "state": {
       "_dom_classes": [],
       "_model_module": "@jupyter-widgets/controls",
       "_model_module_version": "1.5.0",
       "_model_name": "FloatProgressModel",
       "_view_count": null,
       "_view_module": "@jupyter-widgets/controls",
       "_view_module_version": "1.5.0",
       "_view_name": "ProgressView",
       "bar_style": "success",
       "description": "",
       "description_tooltip": null,
       "layout": "IPY_MODEL_5d30932d78be4d0599908550660d9cc9",
       "max": 231508.0,
       "min": 0.0,
       "orientation": "horizontal",
       "style": "IPY_MODEL_4749555b9b984f499c9b8e622d9f2803",
       "value": 231508.0
      }
     },
     "3a133fd07d4442aab0a2b279907b1ab3": {
      "model_module": "@jupyter-widgets/controls",
      "model_module_version": "1.5.0",
      "model_name": "DescriptionStyleModel",
      "state": {
       "_model_module": "@jupyter-widgets/controls",
       "_model_module_version": "1.5.0",
       "_model_name": "DescriptionStyleModel",
       "_view_count": null,
       "_view_module": "@jupyter-widgets/base",
       "_view_module_version": "1.2.0",
       "_view_name": "StyleView",
       "description_width": ""
      }
     },
     "3b11b0ce29bd4008b77abd0316599306": {
      "model_module": "@jupyter-widgets/controls",
      "model_module_version": "1.5.0",
      "model_name": "HTMLModel",
      "state": {
       "_dom_classes": [],
       "_model_module": "@jupyter-widgets/controls",
       "_model_module_version": "1.5.0",
       "_model_name": "HTMLModel",
       "_view_count": null,
       "_view_module": "@jupyter-widgets/controls",
       "_view_module_version": "1.5.0",
       "_view_name": "HTMLView",
       "description": "",
       "description_tooltip": null,
       "layout": "IPY_MODEL_13c5789e1a144aedb9efd404c46143af",
       "placeholder": "​",
       "style": "IPY_MODEL_3a133fd07d4442aab0a2b279907b1ab3",
       "value": " 455k/455k [00:00&lt;00:00, 560kB/s]"
      }
     },
     "3ce138e80007414b9d4e022dce9616a2": {
      "model_module": "@jupyter-widgets/controls",
      "model_module_version": "1.5.0",
      "model_name": "HTMLModel",
      "state": {
       "_dom_classes": [],
       "_model_module": "@jupyter-widgets/controls",
       "_model_module_version": "1.5.0",
       "_model_name": "HTMLModel",
       "_view_count": null,
       "_view_module": "@jupyter-widgets/controls",
       "_view_module_version": "1.5.0",
       "_view_name": "HTMLView",
       "description": "",
       "description_tooltip": null,
       "layout": "IPY_MODEL_fbf2714a503440239abe32d13edc871a",
       "placeholder": "​",
       "style": "IPY_MODEL_64e4ebf39a8e41aba40e1abde4d14880",
       "value": " 256M/256M [00:08&lt;00:00, 36.1MB/s]"
      }
     },
     "3f11025c46c44f008bb9879dc2e99bf0": {
      "model_module": "@jupyter-widgets/controls",
      "model_module_version": "1.5.0",
      "model_name": "ProgressStyleModel",
      "state": {
       "_model_module": "@jupyter-widgets/controls",
       "_model_module_version": "1.5.0",
       "_model_name": "ProgressStyleModel",
       "_view_count": null,
       "_view_module": "@jupyter-widgets/base",
       "_view_module_version": "1.2.0",
       "_view_name": "StyleView",
       "bar_color": null,
       "description_width": ""
      }
     },
     "4749555b9b984f499c9b8e622d9f2803": {
      "model_module": "@jupyter-widgets/controls",
      "model_module_version": "1.5.0",
      "model_name": "ProgressStyleModel",
      "state": {
       "_model_module": "@jupyter-widgets/controls",
       "_model_module_version": "1.5.0",
       "_model_name": "ProgressStyleModel",
       "_view_count": null,
       "_view_module": "@jupyter-widgets/base",
       "_view_module_version": "1.2.0",
       "_view_name": "StyleView",
       "bar_color": null,
       "description_width": ""
      }
     },
     "4b99951d905648ca95508e27740a8c36": {
      "model_module": "@jupyter-widgets/controls",
      "model_module_version": "1.5.0",
      "model_name": "HBoxModel",
      "state": {
       "_dom_classes": [],
       "_model_module": "@jupyter-widgets/controls",
       "_model_module_version": "1.5.0",
       "_model_name": "HBoxModel",
       "_view_count": null,
       "_view_module": "@jupyter-widgets/controls",
       "_view_module_version": "1.5.0",
       "_view_name": "HBoxView",
       "box_style": "",
       "children": [
        "IPY_MODEL_d61142a26e79425d99b95c606d0785fa",
        "IPY_MODEL_b3a83f665708462a86191864e0d067bf",
        "IPY_MODEL_3b11b0ce29bd4008b77abd0316599306"
       ],
       "layout": "IPY_MODEL_dd0169dec2154454ab9e4d1e5415d843"
      }
     },
     "59d5455d5c98489486b5a20d37ab59ce": {
      "model_module": "@jupyter-widgets/base",
      "model_module_version": "1.2.0",
      "model_name": "LayoutModel",
      "state": {
       "_model_module": "@jupyter-widgets/base",
       "_model_module_version": "1.2.0",
       "_model_name": "LayoutModel",
       "_view_count": null,
       "_view_module": "@jupyter-widgets/base",
       "_view_module_version": "1.2.0",
       "_view_name": "LayoutView",
       "align_content": null,
       "align_items": null,
       "align_self": null,
       "border": null,
       "bottom": null,
       "display": null,
       "flex": null,
       "flex_flow": null,
       "grid_area": null,
       "grid_auto_columns": null,
       "grid_auto_flow": null,
       "grid_auto_rows": null,
       "grid_column": null,
       "grid_gap": null,
       "grid_row": null,
       "grid_template_areas": null,
       "grid_template_columns": null,
       "grid_template_rows": null,
       "height": null,
       "justify_content": null,
       "justify_items": null,
       "left": null,
       "margin": null,
       "max_height": null,
       "max_width": null,
       "min_height": null,
       "min_width": null,
       "object_fit": null,
       "object_position": null,
       "order": null,
       "overflow": null,
       "overflow_x": null,
       "overflow_y": null,
       "padding": null,
       "right": null,
       "top": null,
       "visibility": null,
       "width": null
      }
     },
     "5d30932d78be4d0599908550660d9cc9": {
      "model_module": "@jupyter-widgets/base",
      "model_module_version": "1.2.0",
      "model_name": "LayoutModel",
      "state": {
       "_model_module": "@jupyter-widgets/base",
       "_model_module_version": "1.2.0",
       "_model_name": "LayoutModel",
       "_view_count": null,
       "_view_module": "@jupyter-widgets/base",
       "_view_module_version": "1.2.0",
       "_view_name": "LayoutView",
       "align_content": null,
       "align_items": null,
       "align_self": null,
       "border": null,
       "bottom": null,
       "display": null,
       "flex": null,
       "flex_flow": null,
       "grid_area": null,
       "grid_auto_columns": null,
       "grid_auto_flow": null,
       "grid_auto_rows": null,
       "grid_column": null,
       "grid_gap": null,
       "grid_row": null,
       "grid_template_areas": null,
       "grid_template_columns": null,
       "grid_template_rows": null,
       "height": null,
       "justify_content": null,
       "justify_items": null,
       "left": null,
       "margin": null,
       "max_height": null,
       "max_width": null,
       "min_height": null,
       "min_width": null,
       "object_fit": null,
       "object_position": null,
       "order": null,
       "overflow": null,
       "overflow_x": null,
       "overflow_y": null,
       "padding": null,
       "right": null,
       "top": null,
       "visibility": null,
       "width": null
      }
     },
     "5e02e01b49fb462dacae1fa03bfb728e": {
      "model_module": "@jupyter-widgets/controls",
      "model_module_version": "1.5.0",
      "model_name": "ProgressStyleModel",
      "state": {
       "_model_module": "@jupyter-widgets/controls",
       "_model_module_version": "1.5.0",
       "_model_name": "ProgressStyleModel",
       "_view_count": null,
       "_view_module": "@jupyter-widgets/base",
       "_view_module_version": "1.2.0",
       "_view_name": "StyleView",
       "bar_color": null,
       "description_width": ""
      }
     },
     "60d53ec425314e9db86c01ce9ba34a83": {
      "model_module": "@jupyter-widgets/controls",
      "model_module_version": "1.5.0",
      "model_name": "ProgressStyleModel",
      "state": {
       "_model_module": "@jupyter-widgets/controls",
       "_model_module_version": "1.5.0",
       "_model_name": "ProgressStyleModel",
       "_view_count": null,
       "_view_module": "@jupyter-widgets/base",
       "_view_module_version": "1.2.0",
       "_view_name": "StyleView",
       "bar_color": null,
       "description_width": ""
      }
     },
     "6367fd22d6d548f2bc82aca9456c9e78": {
      "model_module": "@jupyter-widgets/controls",
      "model_module_version": "1.5.0",
      "model_name": "DescriptionStyleModel",
      "state": {
       "_model_module": "@jupyter-widgets/controls",
       "_model_module_version": "1.5.0",
       "_model_name": "DescriptionStyleModel",
       "_view_count": null,
       "_view_module": "@jupyter-widgets/base",
       "_view_module_version": "1.2.0",
       "_view_name": "StyleView",
       "description_width": ""
      }
     },
     "64e4ebf39a8e41aba40e1abde4d14880": {
      "model_module": "@jupyter-widgets/controls",
      "model_module_version": "1.5.0",
      "model_name": "DescriptionStyleModel",
      "state": {
       "_model_module": "@jupyter-widgets/controls",
       "_model_module_version": "1.5.0",
       "_model_name": "DescriptionStyleModel",
       "_view_count": null,
       "_view_module": "@jupyter-widgets/base",
       "_view_module_version": "1.2.0",
       "_view_name": "StyleView",
       "description_width": ""
      }
     },
     "6a1ef26e63b143a7b6998fbe93787c40": {
      "model_module": "@jupyter-widgets/base",
      "model_module_version": "1.2.0",
      "model_name": "LayoutModel",
      "state": {
       "_model_module": "@jupyter-widgets/base",
       "_model_module_version": "1.2.0",
       "_model_name": "LayoutModel",
       "_view_count": null,
       "_view_module": "@jupyter-widgets/base",
       "_view_module_version": "1.2.0",
       "_view_name": "LayoutView",
       "align_content": null,
       "align_items": null,
       "align_self": null,
       "border": null,
       "bottom": null,
       "display": null,
       "flex": null,
       "flex_flow": null,
       "grid_area": null,
       "grid_auto_columns": null,
       "grid_auto_flow": null,
       "grid_auto_rows": null,
       "grid_column": null,
       "grid_gap": null,
       "grid_row": null,
       "grid_template_areas": null,
       "grid_template_columns": null,
       "grid_template_rows": null,
       "height": null,
       "justify_content": null,
       "justify_items": null,
       "left": null,
       "margin": null,
       "max_height": null,
       "max_width": null,
       "min_height": null,
       "min_width": null,
       "object_fit": null,
       "object_position": null,
       "order": null,
       "overflow": null,
       "overflow_x": null,
       "overflow_y": null,
       "padding": null,
       "right": null,
       "top": null,
       "visibility": null,
       "width": null
      }
     },
     "71c41da7d9a245f6b75cfd319fbd0cad": {
      "model_module": "@jupyter-widgets/controls",
      "model_module_version": "1.5.0",
      "model_name": "DescriptionStyleModel",
      "state": {
       "_model_module": "@jupyter-widgets/controls",
       "_model_module_version": "1.5.0",
       "_model_name": "DescriptionStyleModel",
       "_view_count": null,
       "_view_module": "@jupyter-widgets/base",
       "_view_module_version": "1.2.0",
       "_view_name": "StyleView",
       "description_width": ""
      }
     },
     "7d713fc23a6a4fc0a9a2ce42c6c3663c": {
      "model_module": "@jupyter-widgets/base",
      "model_module_version": "1.2.0",
      "model_name": "LayoutModel",
      "state": {
       "_model_module": "@jupyter-widgets/base",
       "_model_module_version": "1.2.0",
       "_model_name": "LayoutModel",
       "_view_count": null,
       "_view_module": "@jupyter-widgets/base",
       "_view_module_version": "1.2.0",
       "_view_name": "LayoutView",
       "align_content": null,
       "align_items": null,
       "align_self": null,
       "border": null,
       "bottom": null,
       "display": null,
       "flex": null,
       "flex_flow": null,
       "grid_area": null,
       "grid_auto_columns": null,
       "grid_auto_flow": null,
       "grid_auto_rows": null,
       "grid_column": null,
       "grid_gap": null,
       "grid_row": null,
       "grid_template_areas": null,
       "grid_template_columns": null,
       "grid_template_rows": null,
       "height": null,
       "justify_content": null,
       "justify_items": null,
       "left": null,
       "margin": null,
       "max_height": null,
       "max_width": null,
       "min_height": null,
       "min_width": null,
       "object_fit": null,
       "object_position": null,
       "order": null,
       "overflow": null,
       "overflow_x": null,
       "overflow_y": null,
       "padding": null,
       "right": null,
       "top": null,
       "visibility": null,
       "width": null
      }
     },
     "7f4c2a8cb7dc466fbfc912cb8d52646b": {
      "model_module": "@jupyter-widgets/base",
      "model_module_version": "1.2.0",
      "model_name": "LayoutModel",
      "state": {
       "_model_module": "@jupyter-widgets/base",
       "_model_module_version": "1.2.0",
       "_model_name": "LayoutModel",
       "_view_count": null,
       "_view_module": "@jupyter-widgets/base",
       "_view_module_version": "1.2.0",
       "_view_name": "LayoutView",
       "align_content": null,
       "align_items": null,
       "align_self": null,
       "border": null,
       "bottom": null,
       "display": null,
       "flex": null,
       "flex_flow": null,
       "grid_area": null,
       "grid_auto_columns": null,
       "grid_auto_flow": null,
       "grid_auto_rows": null,
       "grid_column": null,
       "grid_gap": null,
       "grid_row": null,
       "grid_template_areas": null,
       "grid_template_columns": null,
       "grid_template_rows": null,
       "height": null,
       "justify_content": null,
       "justify_items": null,
       "left": null,
       "margin": null,
       "max_height": null,
       "max_width": null,
       "min_height": null,
       "min_width": null,
       "object_fit": null,
       "object_position": null,
       "order": null,
       "overflow": null,
       "overflow_x": null,
       "overflow_y": null,
       "padding": null,
       "right": null,
       "top": null,
       "visibility": null,
       "width": null
      }
     },
     "848e7ee8d5c141afa651dcbfd53f1285": {
      "model_module": "@jupyter-widgets/base",
      "model_module_version": "1.2.0",
      "model_name": "LayoutModel",
      "state": {
       "_model_module": "@jupyter-widgets/base",
       "_model_module_version": "1.2.0",
       "_model_name": "LayoutModel",
       "_view_count": null,
       "_view_module": "@jupyter-widgets/base",
       "_view_module_version": "1.2.0",
       "_view_name": "LayoutView",
       "align_content": null,
       "align_items": null,
       "align_self": null,
       "border": null,
       "bottom": null,
       "display": null,
       "flex": null,
       "flex_flow": null,
       "grid_area": null,
       "grid_auto_columns": null,
       "grid_auto_flow": null,
       "grid_auto_rows": null,
       "grid_column": null,
       "grid_gap": null,
       "grid_row": null,
       "grid_template_areas": null,
       "grid_template_columns": null,
       "grid_template_rows": null,
       "height": null,
       "justify_content": null,
       "justify_items": null,
       "left": null,
       "margin": null,
       "max_height": null,
       "max_width": null,
       "min_height": null,
       "min_width": null,
       "object_fit": null,
       "object_position": null,
       "order": null,
       "overflow": null,
       "overflow_x": null,
       "overflow_y": null,
       "padding": null,
       "right": null,
       "top": null,
       "visibility": null,
       "width": null
      }
     },
     "9e86484d4fca411b9cc0eafdff8c3e17": {
      "model_module": "@jupyter-widgets/base",
      "model_module_version": "1.2.0",
      "model_name": "LayoutModel",
      "state": {
       "_model_module": "@jupyter-widgets/base",
       "_model_module_version": "1.2.0",
       "_model_name": "LayoutModel",
       "_view_count": null,
       "_view_module": "@jupyter-widgets/base",
       "_view_module_version": "1.2.0",
       "_view_name": "LayoutView",
       "align_content": null,
       "align_items": null,
       "align_self": null,
       "border": null,
       "bottom": null,
       "display": null,
       "flex": null,
       "flex_flow": null,
       "grid_area": null,
       "grid_auto_columns": null,
       "grid_auto_flow": null,
       "grid_auto_rows": null,
       "grid_column": null,
       "grid_gap": null,
       "grid_row": null,
       "grid_template_areas": null,
       "grid_template_columns": null,
       "grid_template_rows": null,
       "height": null,
       "justify_content": null,
       "justify_items": null,
       "left": null,
       "margin": null,
       "max_height": null,
       "max_width": null,
       "min_height": null,
       "min_width": null,
       "object_fit": null,
       "object_position": null,
       "order": null,
       "overflow": null,
       "overflow_x": null,
       "overflow_y": null,
       "padding": null,
       "right": null,
       "top": null,
       "visibility": null,
       "width": null
      }
     },
     "a81f392702b7491a92bd6a63ec0a22c4": {
      "model_module": "@jupyter-widgets/controls",
      "model_module_version": "1.5.0",
      "model_name": "DescriptionStyleModel",
      "state": {
       "_model_module": "@jupyter-widgets/controls",
       "_model_module_version": "1.5.0",
       "_model_name": "DescriptionStyleModel",
       "_view_count": null,
       "_view_module": "@jupyter-widgets/base",
       "_view_module_version": "1.2.0",
       "_view_name": "StyleView",
       "description_width": ""
      }
     },
     "b3a83f665708462a86191864e0d067bf": {
      "model_module": "@jupyter-widgets/controls",
      "model_module_version": "1.5.0",
      "model_name": "FloatProgressModel",
      "state": {
       "_dom_classes": [],
       "_model_module": "@jupyter-widgets/controls",
       "_model_module_version": "1.5.0",
       "_model_name": "FloatProgressModel",
       "_view_count": null,
       "_view_module": "@jupyter-widgets/controls",
       "_view_module_version": "1.5.0",
       "_view_name": "ProgressView",
       "bar_style": "success",
       "description": "",
       "description_tooltip": null,
       "layout": "IPY_MODEL_0f385f5f66aa43e1bb8a823bb9e68e6c",
       "max": 466062.0,
       "min": 0.0,
       "orientation": "horizontal",
       "style": "IPY_MODEL_5e02e01b49fb462dacae1fa03bfb728e",
       "value": 466062.0
      }
     },
     "b40e0f0118cc4664b743cc47cd2cd23a": {
      "model_module": "@jupyter-widgets/controls",
      "model_module_version": "1.5.0",
      "model_name": "HBoxModel",
      "state": {
       "_dom_classes": [],
       "_model_module": "@jupyter-widgets/controls",
       "_model_module_version": "1.5.0",
       "_model_name": "HBoxModel",
       "_view_count": null,
       "_view_module": "@jupyter-widgets/controls",
       "_view_module_version": "1.5.0",
       "_view_name": "HBoxView",
       "box_style": "",
       "children": [
        "IPY_MODEL_c6f99a10931f44149d1c6bcdf797e7fd",
        "IPY_MODEL_d6f63488225b44418d5507a9fe73cd0d",
        "IPY_MODEL_3ce138e80007414b9d4e022dce9616a2"
       ],
       "layout": "IPY_MODEL_7f4c2a8cb7dc466fbfc912cb8d52646b"
      }
     },
     "bb54452baea74463b5a23aa50eac2819": {
      "model_module": "@jupyter-widgets/controls",
      "model_module_version": "1.5.0",
      "model_name": "HTMLModel",
      "state": {
       "_dom_classes": [],
       "_model_module": "@jupyter-widgets/controls",
       "_model_module_version": "1.5.0",
       "_model_name": "HTMLModel",
       "_view_count": null,
       "_view_module": "@jupyter-widgets/controls",
       "_view_module_version": "1.5.0",
       "_view_name": "HTMLView",
       "description": "",
       "description_tooltip": null,
       "layout": "IPY_MODEL_d7164251d59440d49b45535702c5db3a",
       "placeholder": "​",
       "style": "IPY_MODEL_a81f392702b7491a92bd6a63ec0a22c4",
       "value": " 28.0/28.0 [00:00&lt;00:00, 917B/s]"
      }
     },
     "c162089004e246b3b32e44340cdff2ae": {
      "model_module": "@jupyter-widgets/base",
      "model_module_version": "1.2.0",
      "model_name": "LayoutModel",
      "state": {
       "_model_module": "@jupyter-widgets/base",
       "_model_module_version": "1.2.0",
       "_model_name": "LayoutModel",
       "_view_count": null,
       "_view_module": "@jupyter-widgets/base",
       "_view_module_version": "1.2.0",
       "_view_name": "LayoutView",
       "align_content": null,
       "align_items": null,
       "align_self": null,
       "border": null,
       "bottom": null,
       "display": null,
       "flex": null,
       "flex_flow": null,
       "grid_area": null,
       "grid_auto_columns": null,
       "grid_auto_flow": null,
       "grid_auto_rows": null,
       "grid_column": null,
       "grid_gap": null,
       "grid_row": null,
       "grid_template_areas": null,
       "grid_template_columns": null,
       "grid_template_rows": null,
       "height": null,
       "justify_content": null,
       "justify_items": null,
       "left": null,
       "margin": null,
       "max_height": null,
       "max_width": null,
       "min_height": null,
       "min_width": null,
       "object_fit": null,
       "object_position": null,
       "order": null,
       "overflow": null,
       "overflow_x": null,
       "overflow_y": null,
       "padding": null,
       "right": null,
       "top": null,
       "visibility": null,
       "width": null
      }
     },
     "c2c13a8494044d3fad2f9ac95bed30e2": {
      "model_module": "@jupyter-widgets/controls",
      "model_module_version": "1.5.0",
      "model_name": "HTMLModel",
      "state": {
       "_dom_classes": [],
       "_model_module": "@jupyter-widgets/controls",
       "_model_module_version": "1.5.0",
       "_model_name": "HTMLModel",
       "_view_count": null,
       "_view_module": "@jupyter-widgets/controls",
       "_view_module_version": "1.5.0",
       "_view_name": "HTMLView",
       "description": "",
       "description_tooltip": null,
       "layout": "IPY_MODEL_c162089004e246b3b32e44340cdff2ae",
       "placeholder": "​",
       "style": "IPY_MODEL_3610fc71419a4519809b49d73f62a172",
       "value": " 226k/226k [00:00&lt;00:00, 678kB/s]"
      }
     },
     "c46e58a0b5ec4b7a950ea8eb0146692f": {
      "model_module": "@jupyter-widgets/controls",
      "model_module_version": "1.5.0",
      "model_name": "HTMLModel",
      "state": {
       "_dom_classes": [],
       "_model_module": "@jupyter-widgets/controls",
       "_model_module_version": "1.5.0",
       "_model_name": "HTMLModel",
       "_view_count": null,
       "_view_module": "@jupyter-widgets/controls",
       "_view_module_version": "1.5.0",
       "_view_name": "HTMLView",
       "description": "",
       "description_tooltip": null,
       "layout": "IPY_MODEL_0432db70cc8044feb1bf2c6ba801e70b",
       "placeholder": "​",
       "style": "IPY_MODEL_6367fd22d6d548f2bc82aca9456c9e78",
       "value": " 483/483 [00:00&lt;00:00, 16.6kB/s]"
      }
     },
     "c6f99a10931f44149d1c6bcdf797e7fd": {
      "model_module": "@jupyter-widgets/controls",
      "model_module_version": "1.5.0",
      "model_name": "HTMLModel",
      "state": {
       "_dom_classes": [],
       "_model_module": "@jupyter-widgets/controls",
       "_model_module_version": "1.5.0",
       "_model_name": "HTMLModel",
       "_view_count": null,
       "_view_module": "@jupyter-widgets/controls",
       "_view_module_version": "1.5.0",
       "_view_name": "HTMLView",
       "description": "",
       "description_tooltip": null,
       "layout": "IPY_MODEL_df2aad97405949d8833a54040b0ca788",
       "placeholder": "​",
       "style": "IPY_MODEL_f0c48180f6bd470d8ee3daf2858744d5",
       "value": "Downloading: 100%"
      }
     },
     "c823d97b1aba4424bea7c75f3f8bb0f1": {
      "model_module": "@jupyter-widgets/controls",
      "model_module_version": "1.5.0",
      "model_name": "FloatProgressModel",
      "state": {
       "_dom_classes": [],
       "_model_module": "@jupyter-widgets/controls",
       "_model_module_version": "1.5.0",
       "_model_name": "FloatProgressModel",
       "_view_count": null,
       "_view_module": "@jupyter-widgets/controls",
       "_view_module_version": "1.5.0",
       "_view_name": "ProgressView",
       "bar_style": "success",
       "description": "",
       "description_tooltip": null,
       "layout": "IPY_MODEL_9e86484d4fca411b9cc0eafdff8c3e17",
       "max": 483.0,
       "min": 0.0,
       "orientation": "horizontal",
       "style": "IPY_MODEL_e039f16ff63441849d9c6cdca83fb835",
       "value": 483.0
      }
     },
     "cbec283d72a84d06afcc9b7a929feb0b": {
      "model_module": "@jupyter-widgets/base",
      "model_module_version": "1.2.0",
      "model_name": "LayoutModel",
      "state": {
       "_model_module": "@jupyter-widgets/base",
       "_model_module_version": "1.2.0",
       "_model_name": "LayoutModel",
       "_view_count": null,
       "_view_module": "@jupyter-widgets/base",
       "_view_module_version": "1.2.0",
       "_view_name": "LayoutView",
       "align_content": null,
       "align_items": null,
       "align_self": null,
       "border": null,
       "bottom": null,
       "display": null,
       "flex": null,
       "flex_flow": null,
       "grid_area": null,
       "grid_auto_columns": null,
       "grid_auto_flow": null,
       "grid_auto_rows": null,
       "grid_column": null,
       "grid_gap": null,
       "grid_row": null,
       "grid_template_areas": null,
       "grid_template_columns": null,
       "grid_template_rows": null,
       "height": null,
       "justify_content": null,
       "justify_items": null,
       "left": null,
       "margin": null,
       "max_height": null,
       "max_width": null,
       "min_height": null,
       "min_width": null,
       "object_fit": null,
       "object_position": null,
       "order": null,
       "overflow": null,
       "overflow_x": null,
       "overflow_y": null,
       "padding": null,
       "right": null,
       "top": null,
       "visibility": null,
       "width": null
      }
     },
     "d28344fefe99492181a81acc695e0112": {
      "model_module": "@jupyter-widgets/controls",
      "model_module_version": "1.5.0",
      "model_name": "HBoxModel",
      "state": {
       "_dom_classes": [],
       "_model_module": "@jupyter-widgets/controls",
       "_model_module_version": "1.5.0",
       "_model_name": "HBoxModel",
       "_view_count": null,
       "_view_module": "@jupyter-widgets/controls",
       "_view_module_version": "1.5.0",
       "_view_name": "HBoxView",
       "box_style": "",
       "children": [
        "IPY_MODEL_23930da348e14b498c2da50e5798ac91",
        "IPY_MODEL_fb2992a9f4774759a15c633a68ee228e",
        "IPY_MODEL_bb54452baea74463b5a23aa50eac2819"
       ],
       "layout": "IPY_MODEL_e29fbada05ea4949a55064d6d7d7d4a3"
      }
     },
     "d2dfab796bc5456abdcd8fbc42379f9d": {
      "model_module": "@jupyter-widgets/base",
      "model_module_version": "1.2.0",
      "model_name": "LayoutModel",
      "state": {
       "_model_module": "@jupyter-widgets/base",
       "_model_module_version": "1.2.0",
       "_model_name": "LayoutModel",
       "_view_count": null,
       "_view_module": "@jupyter-widgets/base",
       "_view_module_version": "1.2.0",
       "_view_name": "LayoutView",
       "align_content": null,
       "align_items": null,
       "align_self": null,
       "border": null,
       "bottom": null,
       "display": null,
       "flex": null,
       "flex_flow": null,
       "grid_area": null,
       "grid_auto_columns": null,
       "grid_auto_flow": null,
       "grid_auto_rows": null,
       "grid_column": null,
       "grid_gap": null,
       "grid_row": null,
       "grid_template_areas": null,
       "grid_template_columns": null,
       "grid_template_rows": null,
       "height": null,
       "justify_content": null,
       "justify_items": null,
       "left": null,
       "margin": null,
       "max_height": null,
       "max_width": null,
       "min_height": null,
       "min_width": null,
       "object_fit": null,
       "object_position": null,
       "order": null,
       "overflow": null,
       "overflow_x": null,
       "overflow_y": null,
       "padding": null,
       "right": null,
       "top": null,
       "visibility": null,
       "width": null
      }
     },
     "d61142a26e79425d99b95c606d0785fa": {
      "model_module": "@jupyter-widgets/controls",
      "model_module_version": "1.5.0",
      "model_name": "HTMLModel",
      "state": {
       "_dom_classes": [],
       "_model_module": "@jupyter-widgets/controls",
       "_model_module_version": "1.5.0",
       "_model_name": "HTMLModel",
       "_view_count": null,
       "_view_module": "@jupyter-widgets/controls",
       "_view_module_version": "1.5.0",
       "_view_name": "HTMLView",
       "description": "",
       "description_tooltip": null,
       "layout": "IPY_MODEL_cbec283d72a84d06afcc9b7a929feb0b",
       "placeholder": "​",
       "style": "IPY_MODEL_1288b71ce20443efa7b59deb9b0963ce",
       "value": "Downloading: 100%"
      }
     },
     "d6f63488225b44418d5507a9fe73cd0d": {
      "model_module": "@jupyter-widgets/controls",
      "model_module_version": "1.5.0",
      "model_name": "FloatProgressModel",
      "state": {
       "_dom_classes": [],
       "_model_module": "@jupyter-widgets/controls",
       "_model_module_version": "1.5.0",
       "_model_name": "FloatProgressModel",
       "_view_count": null,
       "_view_module": "@jupyter-widgets/controls",
       "_view_module_version": "1.5.0",
       "_view_name": "ProgressView",
       "bar_style": "success",
       "description": "",
       "description_tooltip": null,
       "layout": "IPY_MODEL_848e7ee8d5c141afa651dcbfd53f1285",
       "max": 267967963.0,
       "min": 0.0,
       "orientation": "horizontal",
       "style": "IPY_MODEL_3f11025c46c44f008bb9879dc2e99bf0",
       "value": 267967963.0
      }
     },
     "d7164251d59440d49b45535702c5db3a": {
      "model_module": "@jupyter-widgets/base",
      "model_module_version": "1.2.0",
      "model_name": "LayoutModel",
      "state": {
       "_model_module": "@jupyter-widgets/base",
       "_model_module_version": "1.2.0",
       "_model_name": "LayoutModel",
       "_view_count": null,
       "_view_module": "@jupyter-widgets/base",
       "_view_module_version": "1.2.0",
       "_view_name": "LayoutView",
       "align_content": null,
       "align_items": null,
       "align_self": null,
       "border": null,
       "bottom": null,
       "display": null,
       "flex": null,
       "flex_flow": null,
       "grid_area": null,
       "grid_auto_columns": null,
       "grid_auto_flow": null,
       "grid_auto_rows": null,
       "grid_column": null,
       "grid_gap": null,
       "grid_row": null,
       "grid_template_areas": null,
       "grid_template_columns": null,
       "grid_template_rows": null,
       "height": null,
       "justify_content": null,
       "justify_items": null,
       "left": null,
       "margin": null,
       "max_height": null,
       "max_width": null,
       "min_height": null,
       "min_width": null,
       "object_fit": null,
       "object_position": null,
       "order": null,
       "overflow": null,
       "overflow_x": null,
       "overflow_y": null,
       "padding": null,
       "right": null,
       "top": null,
       "visibility": null,
       "width": null
      }
     },
     "d79507b72fd64d8eb34bfc67b6c6ee75": {
      "model_module": "@jupyter-widgets/controls",
      "model_module_version": "1.5.0",
      "model_name": "DescriptionStyleModel",
      "state": {
       "_model_module": "@jupyter-widgets/controls",
       "_model_module_version": "1.5.0",
       "_model_name": "DescriptionStyleModel",
       "_view_count": null,
       "_view_module": "@jupyter-widgets/base",
       "_view_module_version": "1.2.0",
       "_view_name": "StyleView",
       "description_width": ""
      }
     },
     "d8c6d504f64447fa8de1c732f850c4e4": {
      "model_module": "@jupyter-widgets/controls",
      "model_module_version": "1.5.0",
      "model_name": "HBoxModel",
      "state": {
       "_dom_classes": [],
       "_model_module": "@jupyter-widgets/controls",
       "_model_module_version": "1.5.0",
       "_model_name": "HBoxModel",
       "_view_count": null,
       "_view_module": "@jupyter-widgets/controls",
       "_view_module_version": "1.5.0",
       "_view_name": "HBoxView",
       "box_style": "",
       "children": [
        "IPY_MODEL_29160cb809d04e01b36661f64520c0d8",
        "IPY_MODEL_c823d97b1aba4424bea7c75f3f8bb0f1",
        "IPY_MODEL_c46e58a0b5ec4b7a950ea8eb0146692f"
       ],
       "layout": "IPY_MODEL_1f2334efaee24e26b9fcedd52097bca8"
      }
     },
     "dc07491d68164bd9a8e2f56bb12aacc9": {
      "model_module": "@jupyter-widgets/base",
      "model_module_version": "1.2.0",
      "model_name": "LayoutModel",
      "state": {
       "_model_module": "@jupyter-widgets/base",
       "_model_module_version": "1.2.0",
       "_model_name": "LayoutModel",
       "_view_count": null,
       "_view_module": "@jupyter-widgets/base",
       "_view_module_version": "1.2.0",
       "_view_name": "LayoutView",
       "align_content": null,
       "align_items": null,
       "align_self": null,
       "border": null,
       "bottom": null,
       "display": null,
       "flex": null,
       "flex_flow": null,
       "grid_area": null,
       "grid_auto_columns": null,
       "grid_auto_flow": null,
       "grid_auto_rows": null,
       "grid_column": null,
       "grid_gap": null,
       "grid_row": null,
       "grid_template_areas": null,
       "grid_template_columns": null,
       "grid_template_rows": null,
       "height": null,
       "justify_content": null,
       "justify_items": null,
       "left": null,
       "margin": null,
       "max_height": null,
       "max_width": null,
       "min_height": null,
       "min_width": null,
       "object_fit": null,
       "object_position": null,
       "order": null,
       "overflow": null,
       "overflow_x": null,
       "overflow_y": null,
       "padding": null,
       "right": null,
       "top": null,
       "visibility": null,
       "width": null
      }
     },
     "dd0169dec2154454ab9e4d1e5415d843": {
      "model_module": "@jupyter-widgets/base",
      "model_module_version": "1.2.0",
      "model_name": "LayoutModel",
      "state": {
       "_model_module": "@jupyter-widgets/base",
       "_model_module_version": "1.2.0",
       "_model_name": "LayoutModel",
       "_view_count": null,
       "_view_module": "@jupyter-widgets/base",
       "_view_module_version": "1.2.0",
       "_view_name": "LayoutView",
       "align_content": null,
       "align_items": null,
       "align_self": null,
       "border": null,
       "bottom": null,
       "display": null,
       "flex": null,
       "flex_flow": null,
       "grid_area": null,
       "grid_auto_columns": null,
       "grid_auto_flow": null,
       "grid_auto_rows": null,
       "grid_column": null,
       "grid_gap": null,
       "grid_row": null,
       "grid_template_areas": null,
       "grid_template_columns": null,
       "grid_template_rows": null,
       "height": null,
       "justify_content": null,
       "justify_items": null,
       "left": null,
       "margin": null,
       "max_height": null,
       "max_width": null,
       "min_height": null,
       "min_width": null,
       "object_fit": null,
       "object_position": null,
       "order": null,
       "overflow": null,
       "overflow_x": null,
       "overflow_y": null,
       "padding": null,
       "right": null,
       "top": null,
       "visibility": null,
       "width": null
      }
     },
     "dd3106091b1a40619c1a1f4c420aeb69": {
      "model_module": "@jupyter-widgets/controls",
      "model_module_version": "1.5.0",
      "model_name": "HTMLModel",
      "state": {
       "_dom_classes": [],
       "_model_module": "@jupyter-widgets/controls",
       "_model_module_version": "1.5.0",
       "_model_name": "HTMLModel",
       "_view_count": null,
       "_view_module": "@jupyter-widgets/controls",
       "_view_module_version": "1.5.0",
       "_view_name": "HTMLView",
       "description": "",
       "description_tooltip": null,
       "layout": "IPY_MODEL_d2dfab796bc5456abdcd8fbc42379f9d",
       "placeholder": "​",
       "style": "IPY_MODEL_d79507b72fd64d8eb34bfc67b6c6ee75",
       "value": "Downloading: 100%"
      }
     },
     "df2aad97405949d8833a54040b0ca788": {
      "model_module": "@jupyter-widgets/base",
      "model_module_version": "1.2.0",
      "model_name": "LayoutModel",
      "state": {
       "_model_module": "@jupyter-widgets/base",
       "_model_module_version": "1.2.0",
       "_model_name": "LayoutModel",
       "_view_count": null,
       "_view_module": "@jupyter-widgets/base",
       "_view_module_version": "1.2.0",
       "_view_name": "LayoutView",
       "align_content": null,
       "align_items": null,
       "align_self": null,
       "border": null,
       "bottom": null,
       "display": null,
       "flex": null,
       "flex_flow": null,
       "grid_area": null,
       "grid_auto_columns": null,
       "grid_auto_flow": null,
       "grid_auto_rows": null,
       "grid_column": null,
       "grid_gap": null,
       "grid_row": null,
       "grid_template_areas": null,
       "grid_template_columns": null,
       "grid_template_rows": null,
       "height": null,
       "justify_content": null,
       "justify_items": null,
       "left": null,
       "margin": null,
       "max_height": null,
       "max_width": null,
       "min_height": null,
       "min_width": null,
       "object_fit": null,
       "object_position": null,
       "order": null,
       "overflow": null,
       "overflow_x": null,
       "overflow_y": null,
       "padding": null,
       "right": null,
       "top": null,
       "visibility": null,
       "width": null
      }
     },
     "e039f16ff63441849d9c6cdca83fb835": {
      "model_module": "@jupyter-widgets/controls",
      "model_module_version": "1.5.0",
      "model_name": "ProgressStyleModel",
      "state": {
       "_model_module": "@jupyter-widgets/controls",
       "_model_module_version": "1.5.0",
       "_model_name": "ProgressStyleModel",
       "_view_count": null,
       "_view_module": "@jupyter-widgets/base",
       "_view_module_version": "1.2.0",
       "_view_name": "StyleView",
       "bar_color": null,
       "description_width": ""
      }
     },
     "e29fbada05ea4949a55064d6d7d7d4a3": {
      "model_module": "@jupyter-widgets/base",
      "model_module_version": "1.2.0",
      "model_name": "LayoutModel",
      "state": {
       "_model_module": "@jupyter-widgets/base",
       "_model_module_version": "1.2.0",
       "_model_name": "LayoutModel",
       "_view_count": null,
       "_view_module": "@jupyter-widgets/base",
       "_view_module_version": "1.2.0",
       "_view_name": "LayoutView",
       "align_content": null,
       "align_items": null,
       "align_self": null,
       "border": null,
       "bottom": null,
       "display": null,
       "flex": null,
       "flex_flow": null,
       "grid_area": null,
       "grid_auto_columns": null,
       "grid_auto_flow": null,
       "grid_auto_rows": null,
       "grid_column": null,
       "grid_gap": null,
       "grid_row": null,
       "grid_template_areas": null,
       "grid_template_columns": null,
       "grid_template_rows": null,
       "height": null,
       "justify_content": null,
       "justify_items": null,
       "left": null,
       "margin": null,
       "max_height": null,
       "max_width": null,
       "min_height": null,
       "min_width": null,
       "object_fit": null,
       "object_position": null,
       "order": null,
       "overflow": null,
       "overflow_x": null,
       "overflow_y": null,
       "padding": null,
       "right": null,
       "top": null,
       "visibility": null,
       "width": null
      }
     },
     "f0c48180f6bd470d8ee3daf2858744d5": {
      "model_module": "@jupyter-widgets/controls",
      "model_module_version": "1.5.0",
      "model_name": "DescriptionStyleModel",
      "state": {
       "_model_module": "@jupyter-widgets/controls",
       "_model_module_version": "1.5.0",
       "_model_name": "DescriptionStyleModel",
       "_view_count": null,
       "_view_module": "@jupyter-widgets/base",
       "_view_module_version": "1.2.0",
       "_view_name": "StyleView",
       "description_width": ""
      }
     },
     "fb2992a9f4774759a15c633a68ee228e": {
      "model_module": "@jupyter-widgets/controls",
      "model_module_version": "1.5.0",
      "model_name": "FloatProgressModel",
      "state": {
       "_dom_classes": [],
       "_model_module": "@jupyter-widgets/controls",
       "_model_module_version": "1.5.0",
       "_model_name": "FloatProgressModel",
       "_view_count": null,
       "_view_module": "@jupyter-widgets/controls",
       "_view_module_version": "1.5.0",
       "_view_name": "ProgressView",
       "bar_style": "success",
       "description": "",
       "description_tooltip": null,
       "layout": "IPY_MODEL_dc07491d68164bd9a8e2f56bb12aacc9",
       "max": 28.0,
       "min": 0.0,
       "orientation": "horizontal",
       "style": "IPY_MODEL_60d53ec425314e9db86c01ce9ba34a83",
       "value": 28.0
      }
     },
     "fbf2714a503440239abe32d13edc871a": {
      "model_module": "@jupyter-widgets/base",
      "model_module_version": "1.2.0",
      "model_name": "LayoutModel",
      "state": {
       "_model_module": "@jupyter-widgets/base",
       "_model_module_version": "1.2.0",
       "_model_name": "LayoutModel",
       "_view_count": null,
       "_view_module": "@jupyter-widgets/base",
       "_view_module_version": "1.2.0",
       "_view_name": "LayoutView",
       "align_content": null,
       "align_items": null,
       "align_self": null,
       "border": null,
       "bottom": null,
       "display": null,
       "flex": null,
       "flex_flow": null,
       "grid_area": null,
       "grid_auto_columns": null,
       "grid_auto_flow": null,
       "grid_auto_rows": null,
       "grid_column": null,
       "grid_gap": null,
       "grid_row": null,
       "grid_template_areas": null,
       "grid_template_columns": null,
       "grid_template_rows": null,
       "height": null,
       "justify_content": null,
       "justify_items": null,
       "left": null,
       "margin": null,
       "max_height": null,
       "max_width": null,
       "min_height": null,
       "min_width": null,
       "object_fit": null,
       "object_position": null,
       "order": null,
       "overflow": null,
       "overflow_x": null,
       "overflow_y": null,
       "padding": null,
       "right": null,
       "top": null,
       "visibility": null,
       "width": null
      }
     },
     "fec2c81ee70c4093876bfb488dc0e762": {
      "model_module": "@jupyter-widgets/controls",
      "model_module_version": "1.5.0",
      "model_name": "HBoxModel",
      "state": {
       "_dom_classes": [],
       "_model_module": "@jupyter-widgets/controls",
       "_model_module_version": "1.5.0",
       "_model_name": "HBoxModel",
       "_view_count": null,
       "_view_module": "@jupyter-widgets/controls",
       "_view_module_version": "1.5.0",
       "_view_name": "HBoxView",
       "box_style": "",
       "children": [
        "IPY_MODEL_dd3106091b1a40619c1a1f4c420aeb69",
        "IPY_MODEL_398a6680a9d24e698443512e2f9aa015",
        "IPY_MODEL_c2c13a8494044d3fad2f9ac95bed30e2"
       ],
       "layout": "IPY_MODEL_6a1ef26e63b143a7b6998fbe93787c40"
      }
     }
    },
    "version_major": 2,
    "version_minor": 0
   }
  }
 },
 "nbformat": 4,
 "nbformat_minor": 5
}
